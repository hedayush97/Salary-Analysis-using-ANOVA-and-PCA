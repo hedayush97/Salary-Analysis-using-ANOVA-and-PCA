{
 "cells": [
  {
   "cell_type": "markdown",
   "metadata": {},
   "source": [
    "# Problem 2"
   ]
  },
  {
   "cell_type": "code",
   "execution_count": 1,
   "metadata": {},
   "outputs": [],
   "source": [
    "import numpy as np\n",
    "import pandas as pd\n",
    "import matplotlib.pyplot as plt\n",
    "import seaborn as sns\n",
    "import scipy.stats as stats\n",
    "import statsmodels.api as sm\n",
    "from statsmodels.formula.api import ols"
   ]
  },
  {
   "cell_type": "code",
   "execution_count": 2,
   "metadata": {},
   "outputs": [],
   "source": [
    "df = pd.read_csv(\"SalaryData.csv\")"
   ]
  },
  {
   "cell_type": "code",
   "execution_count": 3,
   "metadata": {},
   "outputs": [
    {
     "data": {
      "text/html": [
       "<div>\n",
       "<style scoped>\n",
       "    .dataframe tbody tr th:only-of-type {\n",
       "        vertical-align: middle;\n",
       "    }\n",
       "\n",
       "    .dataframe tbody tr th {\n",
       "        vertical-align: top;\n",
       "    }\n",
       "\n",
       "    .dataframe thead th {\n",
       "        text-align: right;\n",
       "    }\n",
       "</style>\n",
       "<table border=\"1\" class=\"dataframe\">\n",
       "  <thead>\n",
       "    <tr style=\"text-align: right;\">\n",
       "      <th></th>\n",
       "      <th>Education</th>\n",
       "      <th>Occupation</th>\n",
       "      <th>Salary</th>\n",
       "    </tr>\n",
       "  </thead>\n",
       "  <tbody>\n",
       "    <tr>\n",
       "      <th>0</th>\n",
       "      <td>Doctorate</td>\n",
       "      <td>Adm-clerical</td>\n",
       "      <td>153197</td>\n",
       "    </tr>\n",
       "    <tr>\n",
       "      <th>1</th>\n",
       "      <td>Doctorate</td>\n",
       "      <td>Adm-clerical</td>\n",
       "      <td>115945</td>\n",
       "    </tr>\n",
       "    <tr>\n",
       "      <th>2</th>\n",
       "      <td>Doctorate</td>\n",
       "      <td>Adm-clerical</td>\n",
       "      <td>175935</td>\n",
       "    </tr>\n",
       "    <tr>\n",
       "      <th>3</th>\n",
       "      <td>Doctorate</td>\n",
       "      <td>Adm-clerical</td>\n",
       "      <td>220754</td>\n",
       "    </tr>\n",
       "    <tr>\n",
       "      <th>4</th>\n",
       "      <td>Doctorate</td>\n",
       "      <td>Sales</td>\n",
       "      <td>170769</td>\n",
       "    </tr>\n",
       "  </tbody>\n",
       "</table>\n",
       "</div>"
      ],
      "text/plain": [
       "    Education     Occupation  Salary\n",
       "0   Doctorate   Adm-clerical  153197\n",
       "1   Doctorate   Adm-clerical  115945\n",
       "2   Doctorate   Adm-clerical  175935\n",
       "3   Doctorate   Adm-clerical  220754\n",
       "4   Doctorate          Sales  170769"
      ]
     },
     "execution_count": 3,
     "metadata": {},
     "output_type": "execute_result"
    }
   ],
   "source": [
    "df.head()"
   ]
  },
  {
   "cell_type": "code",
   "execution_count": 4,
   "metadata": {},
   "outputs": [
    {
     "data": {
      "text/plain": [
       "(40, 3)"
      ]
     },
     "execution_count": 4,
     "metadata": {},
     "output_type": "execute_result"
    }
   ],
   "source": [
    "df.shape"
   ]
  },
  {
   "cell_type": "code",
   "execution_count": 5,
   "metadata": {},
   "outputs": [
    {
     "data": {
      "text/html": [
       "<div>\n",
       "<style scoped>\n",
       "    .dataframe tbody tr th:only-of-type {\n",
       "        vertical-align: middle;\n",
       "    }\n",
       "\n",
       "    .dataframe tbody tr th {\n",
       "        vertical-align: top;\n",
       "    }\n",
       "\n",
       "    .dataframe thead th {\n",
       "        text-align: right;\n",
       "    }\n",
       "</style>\n",
       "<table border=\"1\" class=\"dataframe\">\n",
       "  <thead>\n",
       "    <tr style=\"text-align: right;\">\n",
       "      <th></th>\n",
       "      <th>Education</th>\n",
       "      <th>Occupation</th>\n",
       "      <th>Salary</th>\n",
       "    </tr>\n",
       "  </thead>\n",
       "  <tbody>\n",
       "    <tr>\n",
       "      <th>count</th>\n",
       "      <td>40</td>\n",
       "      <td>40</td>\n",
       "      <td>40.000000</td>\n",
       "    </tr>\n",
       "    <tr>\n",
       "      <th>unique</th>\n",
       "      <td>3</td>\n",
       "      <td>4</td>\n",
       "      <td>NaN</td>\n",
       "    </tr>\n",
       "    <tr>\n",
       "      <th>top</th>\n",
       "      <td>Doctorate</td>\n",
       "      <td>Prof-specialty</td>\n",
       "      <td>NaN</td>\n",
       "    </tr>\n",
       "    <tr>\n",
       "      <th>freq</th>\n",
       "      <td>16</td>\n",
       "      <td>13</td>\n",
       "      <td>NaN</td>\n",
       "    </tr>\n",
       "    <tr>\n",
       "      <th>mean</th>\n",
       "      <td>NaN</td>\n",
       "      <td>NaN</td>\n",
       "      <td>162186.875000</td>\n",
       "    </tr>\n",
       "    <tr>\n",
       "      <th>std</th>\n",
       "      <td>NaN</td>\n",
       "      <td>NaN</td>\n",
       "      <td>64860.407506</td>\n",
       "    </tr>\n",
       "    <tr>\n",
       "      <th>min</th>\n",
       "      <td>NaN</td>\n",
       "      <td>NaN</td>\n",
       "      <td>50103.000000</td>\n",
       "    </tr>\n",
       "    <tr>\n",
       "      <th>25%</th>\n",
       "      <td>NaN</td>\n",
       "      <td>NaN</td>\n",
       "      <td>99897.500000</td>\n",
       "    </tr>\n",
       "    <tr>\n",
       "      <th>50%</th>\n",
       "      <td>NaN</td>\n",
       "      <td>NaN</td>\n",
       "      <td>169100.000000</td>\n",
       "    </tr>\n",
       "    <tr>\n",
       "      <th>75%</th>\n",
       "      <td>NaN</td>\n",
       "      <td>NaN</td>\n",
       "      <td>214440.750000</td>\n",
       "    </tr>\n",
       "    <tr>\n",
       "      <th>max</th>\n",
       "      <td>NaN</td>\n",
       "      <td>NaN</td>\n",
       "      <td>260151.000000</td>\n",
       "    </tr>\n",
       "  </tbody>\n",
       "</table>\n",
       "</div>"
      ],
      "text/plain": [
       "         Education       Occupation         Salary\n",
       "count           40               40      40.000000\n",
       "unique           3                4            NaN\n",
       "top      Doctorate   Prof-specialty            NaN\n",
       "freq            16               13            NaN\n",
       "mean           NaN              NaN  162186.875000\n",
       "std            NaN              NaN   64860.407506\n",
       "min            NaN              NaN   50103.000000\n",
       "25%            NaN              NaN   99897.500000\n",
       "50%            NaN              NaN  169100.000000\n",
       "75%            NaN              NaN  214440.750000\n",
       "max            NaN              NaN  260151.000000"
      ]
     },
     "execution_count": 5,
     "metadata": {},
     "output_type": "execute_result"
    }
   ],
   "source": [
    "df.describe(include=\"all\")"
   ]
  },
  {
   "cell_type": "code",
   "execution_count": 6,
   "metadata": {},
   "outputs": [
    {
     "name": "stdout",
     "output_type": "stream",
     "text": [
      "<class 'pandas.core.frame.DataFrame'>\n",
      "RangeIndex: 40 entries, 0 to 39\n",
      "Data columns (total 3 columns):\n",
      " #   Column      Non-Null Count  Dtype \n",
      "---  ------      --------------  ----- \n",
      " 0   Education   40 non-null     object\n",
      " 1   Occupation  40 non-null     object\n",
      " 2   Salary      40 non-null     int64 \n",
      "dtypes: int64(1), object(2)\n",
      "memory usage: 1.1+ KB\n"
     ]
    }
   ],
   "source": [
    "df.info()"
   ]
  },
  {
   "cell_type": "code",
   "execution_count": 7,
   "metadata": {},
   "outputs": [
    {
     "data": {
      "text/plain": [
       "Education     0\n",
       "Occupation    0\n",
       "Salary        0\n",
       "dtype: int64"
      ]
     },
     "execution_count": 7,
     "metadata": {},
     "output_type": "execute_result"
    }
   ],
   "source": [
    "df.isnull().sum()"
   ]
  },
  {
   "cell_type": "markdown",
   "metadata": {},
   "source": [
    "# Problem 1A"
   ]
  },
  {
   "cell_type": "markdown",
   "metadata": {},
   "source": [
    "### Ques 1\n",
    "Eduation -\n",
    "#### H0 - There is no difference in the population means of Salary and Education\n",
    "#### H1 - There is difference in the population means of Salary and Education \n",
    "\n",
    "Occupation -\n",
    "#### H0 - There is no difference in the population means of Salary and Occupation\n",
    "#### H1 - There is difference in the population means of Salary and Occupation "
   ]
  },
  {
   "cell_type": "markdown",
   "metadata": {},
   "source": [
    "## Ques 2"
   ]
  },
  {
   "cell_type": "code",
   "execution_count": 8,
   "metadata": {},
   "outputs": [
    {
     "name": "stdout",
     "output_type": "stream",
     "text": [
      "             df        sum_sq       mean_sq         F        PR(>F)\n",
      "Education   2.0  1.026955e+11  5.134773e+10  30.95628  1.257709e-08\n",
      "Residual   37.0  6.137256e+10  1.658718e+09       NaN           NaN\n"
     ]
    }
   ],
   "source": [
    "model = ols('Salary ~ Education', data=df).fit()\n",
    "table = sm.stats.anova_lm(model)\n",
    "print(table)"
   ]
  },
  {
   "cell_type": "markdown",
   "metadata": {},
   "source": [
    "##### Since p value is greater than 0.05, hence we reject the null hypothesis"
   ]
  },
  {
   "cell_type": "markdown",
   "metadata": {},
   "source": [
    "### Ques 3"
   ]
  },
  {
   "cell_type": "code",
   "execution_count": 9,
   "metadata": {},
   "outputs": [
    {
     "name": "stdout",
     "output_type": "stream",
     "text": [
      "              df        sum_sq       mean_sq         F    PR(>F)\n",
      "Occupation   3.0  1.125878e+10  3.752928e+09  0.884144  0.458508\n",
      "Residual    36.0  1.528092e+11  4.244701e+09       NaN       NaN\n"
     ]
    }
   ],
   "source": [
    "model = ols('Salary ~ Occupation', data=df).fit()\n",
    "table = sm.stats.anova_lm(model)\n",
    "print(table)"
   ]
  },
  {
   "cell_type": "markdown",
   "metadata": {},
   "source": [
    "##### Since p value is greater than 0.05, hence we reject the null hypothesis"
   ]
  },
  {
   "cell_type": "markdown",
   "metadata": {},
   "source": [
    "### Ques 4"
   ]
  },
  {
   "cell_type": "code",
   "execution_count": 10,
   "metadata": {},
   "outputs": [
    {
     "name": "stdout",
     "output_type": "stream",
     "text": [
      "                        df        sum_sq       mean_sq          F  \\\n",
      "Occupation:Education  11.0  1.434497e+11  1.304088e+10  18.339811   \n",
      "Residual              29.0  2.062102e+10  7.110697e+08        NaN   \n",
      "\n",
      "                            PR(>F)  \n",
      "Occupation:Education  3.441555e-10  \n",
      "Residual                       NaN  \n"
     ]
    }
   ],
   "source": [
    "model = ols('Salary ~ Occupation:Education', data=df).fit()\n",
    "table = sm.stats.anova_lm(model)\n",
    "print(table)"
   ]
  },
  {
   "cell_type": "markdown",
   "metadata": {},
   "source": [
    "##### When both Education and Occupation are combined together, it results in a significant difference with the population mean of Salary. Individually, the field Education is significantly different from that of Salary."
   ]
  },
  {
   "cell_type": "markdown",
   "metadata": {},
   "source": [
    "# Problem 1B"
   ]
  },
  {
   "cell_type": "markdown",
   "metadata": {},
   "source": [
    "## Ques 1"
   ]
  },
  {
   "cell_type": "code",
   "execution_count": 11,
   "metadata": {},
   "outputs": [
    {
     "data": {
      "image/png": "[encoded data removed]",
      "text/plain": [
       "<Figure size 1440x360 with 2 Axes>"
      ]
     },
     "metadata": {
      "needs_background": "light"
     },
     "output_type": "display_data"
    }
   ],
   "source": [
    "fig_dims = (20,5)\n",
    "fig, axs = plt.subplots(nrows=1, ncols=2, figsize=fig_dims)\n",
    "sns.pointplot(x = \"Education\", y = \"Salary\", data=df, ax = axs[0])\n",
    "sns.pointplot(x = \"Occupation\", y = \"Salary\", data=df, ax = axs[1])\n",
    "plt.show()"
   ]
  },
  {
   "cell_type": "markdown",
   "metadata": {},
   "source": [
    "##### The salary gets higher as per the Education. The Docotrate has highest salary as compared to HS-Grad.\n",
    "##### The Exec-managerial has the highest salary while the Adm-clerical has the lowest salary out of all."
   ]
  },
  {
   "cell_type": "markdown",
   "metadata": {},
   "source": [
    "## Ques 2"
   ]
  },
  {
   "cell_type": "markdown",
   "metadata": {},
   "source": [
    "#### H0: The means of Education and Occupation is same.\n",
    "#### H1: The means of Education and Occupation is different."
   ]
  },
  {
   "cell_type": "code",
   "execution_count": 12,
   "metadata": {},
   "outputs": [
    {
     "name": "stderr",
     "output_type": "stream",
     "text": [
      "C:\\Users\\hedaa\\anaconda3\\lib\\site-packages\\statsmodels\\base\\model.py:1830: ValueWarning: covariance of constraints does not have full rank. The number of constraints is 11, but rank is 10\n",
      "  warnings.warn('covariance of constraints does not have full '\n"
     ]
    },
    {
     "data": {
      "text/html": [
       "<div>\n",
       "<style scoped>\n",
       "    .dataframe tbody tr th:only-of-type {\n",
       "        vertical-align: middle;\n",
       "    }\n",
       "\n",
       "    .dataframe tbody tr th {\n",
       "        vertical-align: top;\n",
       "    }\n",
       "\n",
       "    .dataframe thead th {\n",
       "        text-align: right;\n",
       "    }\n",
       "</style>\n",
       "<table border=\"1\" class=\"dataframe\">\n",
       "  <thead>\n",
       "    <tr style=\"text-align: right;\">\n",
       "      <th></th>\n",
       "      <th>sum_sq</th>\n",
       "      <th>df</th>\n",
       "      <th>F</th>\n",
       "      <th>PR(&gt;F)</th>\n",
       "    </tr>\n",
       "  </thead>\n",
       "  <tbody>\n",
       "    <tr>\n",
       "      <th>Occupation:Education</th>\n",
       "      <td>1.577917e+11</td>\n",
       "      <td>11.0</td>\n",
       "      <td>20.173411</td>\n",
       "      <td>1.821237e-10</td>\n",
       "    </tr>\n",
       "    <tr>\n",
       "      <th>Residual</th>\n",
       "      <td>2.062102e+10</td>\n",
       "      <td>29.0</td>\n",
       "      <td>NaN</td>\n",
       "      <td>NaN</td>\n",
       "    </tr>\n",
       "  </tbody>\n",
       "</table>\n",
       "</div>"
      ],
      "text/plain": [
       "                            sum_sq    df          F        PR(>F)\n",
       "Occupation:Education  1.577917e+11  11.0  20.173411  1.821237e-10\n",
       "Residual              2.062102e+10  29.0        NaN           NaN"
      ]
     },
     "execution_count": 12,
     "metadata": {},
     "output_type": "execute_result"
    }
   ],
   "source": [
    "model = ols('Salary ~ Occupation:Education', data=df).fit()\n",
    "sm.stats.anova_lm(model, typ=2)"
   ]
  },
  {
   "cell_type": "markdown",
   "metadata": {},
   "source": [
    "##### Since, the p-value < 0.05, hence we rejct the null hypothesis. The means of Education and Occupation is different."
   ]
  },
  {
   "cell_type": "markdown",
   "metadata": {},
   "source": [
    "# END"
   ]
  },
  {
   "cell_type": "markdown",
   "metadata": {},
   "source": [
    "# Problem 2"
   ]
  },
  {
   "cell_type": "code",
   "execution_count": 13,
   "metadata": {},
   "outputs": [],
   "source": [
    "df = pd.read_csv(\"Education-Post+12th+Standard.csv\")"
   ]
  },
  {
   "cell_type": "code",
   "execution_count": 14,
   "metadata": {},
   "outputs": [
    {
     "data": {
      "text/html": [
       "<div>\n",
       "<style scoped>\n",
       "    .dataframe tbody tr th:only-of-type {\n",
       "        vertical-align: middle;\n",
       "    }\n",
       "\n",
       "    .dataframe tbody tr th {\n",
       "        vertical-align: top;\n",
       "    }\n",
       "\n",
       "    .dataframe thead th {\n",
       "        text-align: right;\n",
       "    }\n",
       "</style>\n",
       "<table border=\"1\" class=\"dataframe\">\n",
       "  <thead>\n",
       "    <tr style=\"text-align: right;\">\n",
       "      <th></th>\n",
       "      <th>Names</th>\n",
       "      <th>Apps</th>\n",
       "      <th>Accept</th>\n",
       "      <th>Enroll</th>\n",
       "      <th>Top10perc</th>\n",
       "      <th>Top25perc</th>\n",
       "      <th>F.Undergrad</th>\n",
       "      <th>P.Undergrad</th>\n",
       "      <th>Outstate</th>\n",
       "      <th>Room.Board</th>\n",
       "      <th>Books</th>\n",
       "      <th>Personal</th>\n",
       "      <th>PhD</th>\n",
       "      <th>Terminal</th>\n",
       "      <th>S.F.Ratio</th>\n",
       "      <th>perc.alumni</th>\n",
       "      <th>Expend</th>\n",
       "      <th>Grad.Rate</th>\n",
       "    </tr>\n",
       "  </thead>\n",
       "  <tbody>\n",
       "    <tr>\n",
       "      <th>0</th>\n",
       "      <td>Abilene Christian University</td>\n",
       "      <td>1660</td>\n",
       "      <td>1232</td>\n",
       "      <td>721</td>\n",
       "      <td>23</td>\n",
       "      <td>52</td>\n",
       "      <td>2885</td>\n",
       "      <td>537</td>\n",
       "      <td>7440</td>\n",
       "      <td>3300</td>\n",
       "      <td>450</td>\n",
       "      <td>2200</td>\n",
       "      <td>70</td>\n",
       "      <td>78</td>\n",
       "      <td>18.1</td>\n",
       "      <td>12</td>\n",
       "      <td>7041</td>\n",
       "      <td>60</td>\n",
       "    </tr>\n",
       "    <tr>\n",
       "      <th>1</th>\n",
       "      <td>Adelphi University</td>\n",
       "      <td>2186</td>\n",
       "      <td>1924</td>\n",
       "      <td>512</td>\n",
       "      <td>16</td>\n",
       "      <td>29</td>\n",
       "      <td>2683</td>\n",
       "      <td>1227</td>\n",
       "      <td>12280</td>\n",
       "      <td>6450</td>\n",
       "      <td>750</td>\n",
       "      <td>1500</td>\n",
       "      <td>29</td>\n",
       "      <td>30</td>\n",
       "      <td>12.2</td>\n",
       "      <td>16</td>\n",
       "      <td>10527</td>\n",
       "      <td>56</td>\n",
       "    </tr>\n",
       "    <tr>\n",
       "      <th>2</th>\n",
       "      <td>Adrian College</td>\n",
       "      <td>1428</td>\n",
       "      <td>1097</td>\n",
       "      <td>336</td>\n",
       "      <td>22</td>\n",
       "      <td>50</td>\n",
       "      <td>1036</td>\n",
       "      <td>99</td>\n",
       "      <td>11250</td>\n",
       "      <td>3750</td>\n",
       "      <td>400</td>\n",
       "      <td>1165</td>\n",
       "      <td>53</td>\n",
       "      <td>66</td>\n",
       "      <td>12.9</td>\n",
       "      <td>30</td>\n",
       "      <td>8735</td>\n",
       "      <td>54</td>\n",
       "    </tr>\n",
       "    <tr>\n",
       "      <th>3</th>\n",
       "      <td>Agnes Scott College</td>\n",
       "      <td>417</td>\n",
       "      <td>349</td>\n",
       "      <td>137</td>\n",
       "      <td>60</td>\n",
       "      <td>89</td>\n",
       "      <td>510</td>\n",
       "      <td>63</td>\n",
       "      <td>12960</td>\n",
       "      <td>5450</td>\n",
       "      <td>450</td>\n",
       "      <td>875</td>\n",
       "      <td>92</td>\n",
       "      <td>97</td>\n",
       "      <td>7.7</td>\n",
       "      <td>37</td>\n",
       "      <td>19016</td>\n",
       "      <td>59</td>\n",
       "    </tr>\n",
       "    <tr>\n",
       "      <th>4</th>\n",
       "      <td>Alaska Pacific University</td>\n",
       "      <td>193</td>\n",
       "      <td>146</td>\n",
       "      <td>55</td>\n",
       "      <td>16</td>\n",
       "      <td>44</td>\n",
       "      <td>249</td>\n",
       "      <td>869</td>\n",
       "      <td>7560</td>\n",
       "      <td>4120</td>\n",
       "      <td>800</td>\n",
       "      <td>1500</td>\n",
       "      <td>76</td>\n",
       "      <td>72</td>\n",
       "      <td>11.9</td>\n",
       "      <td>2</td>\n",
       "      <td>10922</td>\n",
       "      <td>15</td>\n",
       "    </tr>\n",
       "  </tbody>\n",
       "</table>\n",
       "</div>"
      ],
      "text/plain": [
       "                          Names  Apps  Accept  Enroll  Top10perc  Top25perc  \\\n",
       "0  Abilene Christian University  1660    1232     721         23         52   \n",
       "1            Adelphi University  2186    1924     512         16         29   \n",
       "2                Adrian College  1428    1097     336         22         50   \n",
       "3           Agnes Scott College   417     349     137         60         89   \n",
       "4     Alaska Pacific University   193     146      55         16         44   \n",
       "\n",
       "   F.Undergrad  P.Undergrad  Outstate  Room.Board  Books  Personal  PhD  \\\n",
       "0         2885          537      7440        3300    450      2200   70   \n",
       "1         2683         1227     12280        6450    750      1500   29   \n",
       "2         1036           99     11250        3750    400      1165   53   \n",
       "3          510           63     12960        5450    450       875   92   \n",
       "4          249          869      7560        4120    800      1500   76   \n",
       "\n",
       "   Terminal  S.F.Ratio  perc.alumni  Expend  Grad.Rate  \n",
       "0        78       18.1           12    7041         60  \n",
       "1        30       12.2           16   10527         56  \n",
       "2        66       12.9           30    8735         54  \n",
       "3        97        7.7           37   19016         59  \n",
       "4        72       11.9            2   10922         15  "
      ]
     },
     "execution_count": 14,
     "metadata": {},
     "output_type": "execute_result"
    }
   ],
   "source": [
    "df.head()"
   ]
  },
  {
   "cell_type": "code",
   "execution_count": 15,
   "metadata": {},
   "outputs": [
    {
     "data": {
      "text/plain": [
       "(777, 18)"
      ]
     },
     "execution_count": 15,
     "metadata": {},
     "output_type": "execute_result"
    }
   ],
   "source": [
    "df.shape"
   ]
  },
  {
   "cell_type": "code",
   "execution_count": 16,
   "metadata": {},
   "outputs": [
    {
     "data": {
      "text/html": [
       "<div>\n",
       "<style scoped>\n",
       "    .dataframe tbody tr th:only-of-type {\n",
       "        vertical-align: middle;\n",
       "    }\n",
       "\n",
       "    .dataframe tbody tr th {\n",
       "        vertical-align: top;\n",
       "    }\n",
       "\n",
       "    .dataframe thead th {\n",
       "        text-align: right;\n",
       "    }\n",
       "</style>\n",
       "<table border=\"1\" class=\"dataframe\">\n",
       "  <thead>\n",
       "    <tr style=\"text-align: right;\">\n",
       "      <th></th>\n",
       "      <th>count</th>\n",
       "      <th>mean</th>\n",
       "      <th>std</th>\n",
       "      <th>min</th>\n",
       "      <th>25%</th>\n",
       "      <th>50%</th>\n",
       "      <th>75%</th>\n",
       "      <th>max</th>\n",
       "    </tr>\n",
       "  </thead>\n",
       "  <tbody>\n",
       "    <tr>\n",
       "      <th>Apps</th>\n",
       "      <td>777.0</td>\n",
       "      <td>3001.638353</td>\n",
       "      <td>3870.201484</td>\n",
       "      <td>81.0</td>\n",
       "      <td>776.0</td>\n",
       "      <td>1558.0</td>\n",
       "      <td>3624.0</td>\n",
       "      <td>48094.0</td>\n",
       "    </tr>\n",
       "    <tr>\n",
       "      <th>Accept</th>\n",
       "      <td>777.0</td>\n",
       "      <td>2018.804376</td>\n",
       "      <td>2451.113971</td>\n",
       "      <td>72.0</td>\n",
       "      <td>604.0</td>\n",
       "      <td>1110.0</td>\n",
       "      <td>2424.0</td>\n",
       "      <td>26330.0</td>\n",
       "    </tr>\n",
       "    <tr>\n",
       "      <th>Enroll</th>\n",
       "      <td>777.0</td>\n",
       "      <td>779.972973</td>\n",
       "      <td>929.176190</td>\n",
       "      <td>35.0</td>\n",
       "      <td>242.0</td>\n",
       "      <td>434.0</td>\n",
       "      <td>902.0</td>\n",
       "      <td>6392.0</td>\n",
       "    </tr>\n",
       "    <tr>\n",
       "      <th>Top10perc</th>\n",
       "      <td>777.0</td>\n",
       "      <td>27.558559</td>\n",
       "      <td>17.640364</td>\n",
       "      <td>1.0</td>\n",
       "      <td>15.0</td>\n",
       "      <td>23.0</td>\n",
       "      <td>35.0</td>\n",
       "      <td>96.0</td>\n",
       "    </tr>\n",
       "    <tr>\n",
       "      <th>Top25perc</th>\n",
       "      <td>777.0</td>\n",
       "      <td>55.796654</td>\n",
       "      <td>19.804778</td>\n",
       "      <td>9.0</td>\n",
       "      <td>41.0</td>\n",
       "      <td>54.0</td>\n",
       "      <td>69.0</td>\n",
       "      <td>100.0</td>\n",
       "    </tr>\n",
       "    <tr>\n",
       "      <th>F.Undergrad</th>\n",
       "      <td>777.0</td>\n",
       "      <td>3699.907336</td>\n",
       "      <td>4850.420531</td>\n",
       "      <td>139.0</td>\n",
       "      <td>992.0</td>\n",
       "      <td>1707.0</td>\n",
       "      <td>4005.0</td>\n",
       "      <td>31643.0</td>\n",
       "    </tr>\n",
       "    <tr>\n",
       "      <th>P.Undergrad</th>\n",
       "      <td>777.0</td>\n",
       "      <td>855.298584</td>\n",
       "      <td>1522.431887</td>\n",
       "      <td>1.0</td>\n",
       "      <td>95.0</td>\n",
       "      <td>353.0</td>\n",
       "      <td>967.0</td>\n",
       "      <td>21836.0</td>\n",
       "    </tr>\n",
       "    <tr>\n",
       "      <th>Outstate</th>\n",
       "      <td>777.0</td>\n",
       "      <td>10440.669241</td>\n",
       "      <td>4023.016484</td>\n",
       "      <td>2340.0</td>\n",
       "      <td>7320.0</td>\n",
       "      <td>9990.0</td>\n",
       "      <td>12925.0</td>\n",
       "      <td>21700.0</td>\n",
       "    </tr>\n",
       "    <tr>\n",
       "      <th>Room.Board</th>\n",
       "      <td>777.0</td>\n",
       "      <td>4357.526384</td>\n",
       "      <td>1096.696416</td>\n",
       "      <td>1780.0</td>\n",
       "      <td>3597.0</td>\n",
       "      <td>4200.0</td>\n",
       "      <td>5050.0</td>\n",
       "      <td>8124.0</td>\n",
       "    </tr>\n",
       "    <tr>\n",
       "      <th>Books</th>\n",
       "      <td>777.0</td>\n",
       "      <td>549.380952</td>\n",
       "      <td>165.105360</td>\n",
       "      <td>96.0</td>\n",
       "      <td>470.0</td>\n",
       "      <td>500.0</td>\n",
       "      <td>600.0</td>\n",
       "      <td>2340.0</td>\n",
       "    </tr>\n",
       "    <tr>\n",
       "      <th>Personal</th>\n",
       "      <td>777.0</td>\n",
       "      <td>1340.642214</td>\n",
       "      <td>677.071454</td>\n",
       "      <td>250.0</td>\n",
       "      <td>850.0</td>\n",
       "      <td>1200.0</td>\n",
       "      <td>1700.0</td>\n",
       "      <td>6800.0</td>\n",
       "    </tr>\n",
       "    <tr>\n",
       "      <th>PhD</th>\n",
       "      <td>777.0</td>\n",
       "      <td>72.660232</td>\n",
       "      <td>16.328155</td>\n",
       "      <td>8.0</td>\n",
       "      <td>62.0</td>\n",
       "      <td>75.0</td>\n",
       "      <td>85.0</td>\n",
       "      <td>103.0</td>\n",
       "    </tr>\n",
       "    <tr>\n",
       "      <th>Terminal</th>\n",
       "      <td>777.0</td>\n",
       "      <td>79.702703</td>\n",
       "      <td>14.722359</td>\n",
       "      <td>24.0</td>\n",
       "      <td>71.0</td>\n",
       "      <td>82.0</td>\n",
       "      <td>92.0</td>\n",
       "      <td>100.0</td>\n",
       "    </tr>\n",
       "    <tr>\n",
       "      <th>S.F.Ratio</th>\n",
       "      <td>777.0</td>\n",
       "      <td>14.089704</td>\n",
       "      <td>3.958349</td>\n",
       "      <td>2.5</td>\n",
       "      <td>11.5</td>\n",
       "      <td>13.6</td>\n",
       "      <td>16.5</td>\n",
       "      <td>39.8</td>\n",
       "    </tr>\n",
       "    <tr>\n",
       "      <th>perc.alumni</th>\n",
       "      <td>777.0</td>\n",
       "      <td>22.743887</td>\n",
       "      <td>12.391801</td>\n",
       "      <td>0.0</td>\n",
       "      <td>13.0</td>\n",
       "      <td>21.0</td>\n",
       "      <td>31.0</td>\n",
       "      <td>64.0</td>\n",
       "    </tr>\n",
       "    <tr>\n",
       "      <th>Expend</th>\n",
       "      <td>777.0</td>\n",
       "      <td>9660.171171</td>\n",
       "      <td>5221.768440</td>\n",
       "      <td>3186.0</td>\n",
       "      <td>6751.0</td>\n",
       "      <td>8377.0</td>\n",
       "      <td>10830.0</td>\n",
       "      <td>56233.0</td>\n",
       "    </tr>\n",
       "    <tr>\n",
       "      <th>Grad.Rate</th>\n",
       "      <td>777.0</td>\n",
       "      <td>65.463320</td>\n",
       "      <td>17.177710</td>\n",
       "      <td>10.0</td>\n",
       "      <td>53.0</td>\n",
       "      <td>65.0</td>\n",
       "      <td>78.0</td>\n",
       "      <td>118.0</td>\n",
       "    </tr>\n",
       "  </tbody>\n",
       "</table>\n",
       "</div>"
      ],
      "text/plain": [
       "             count          mean          std     min     25%     50%  \\\n",
       "Apps         777.0   3001.638353  3870.201484    81.0   776.0  1558.0   \n",
       "Accept       777.0   2018.804376  2451.113971    72.0   604.0  1110.0   \n",
       "Enroll       777.0    779.972973   929.176190    35.0   242.0   434.0   \n",
       "Top10perc    777.0     27.558559    17.640364     1.0    15.0    23.0   \n",
       "Top25perc    777.0     55.796654    19.804778     9.0    41.0    54.0   \n",
       "F.Undergrad  777.0   3699.907336  4850.420531   139.0   992.0  1707.0   \n",
       "P.Undergrad  777.0    855.298584  1522.431887     1.0    95.0   353.0   \n",
       "Outstate     777.0  10440.669241  4023.016484  2340.0  7320.0  9990.0   \n",
       "Room.Board   777.0   4357.526384  1096.696416  1780.0  3597.0  4200.0   \n",
       "Books        777.0    549.380952   165.105360    96.0   470.0   500.0   \n",
       "Personal     777.0   1340.642214   677.071454   250.0   850.0  1200.0   \n",
       "PhD          777.0     72.660232    16.328155     8.0    62.0    75.0   \n",
       "Terminal     777.0     79.702703    14.722359    24.0    71.0    82.0   \n",
       "S.F.Ratio    777.0     14.089704     3.958349     2.5    11.5    13.6   \n",
       "perc.alumni  777.0     22.743887    12.391801     0.0    13.0    21.0   \n",
       "Expend       777.0   9660.171171  5221.768440  3186.0  6751.0  8377.0   \n",
       "Grad.Rate    777.0     65.463320    17.177710    10.0    53.0    65.0   \n",
       "\n",
       "                 75%      max  \n",
       "Apps          3624.0  48094.0  \n",
       "Accept        2424.0  26330.0  \n",
       "Enroll         902.0   6392.0  \n",
       "Top10perc       35.0     96.0  \n",
       "Top25perc       69.0    100.0  \n",
       "F.Undergrad   4005.0  31643.0  \n",
       "P.Undergrad    967.0  21836.0  \n",
       "Outstate     12925.0  21700.0  \n",
       "Room.Board    5050.0   8124.0  \n",
       "Books          600.0   2340.0  \n",
       "Personal      1700.0   6800.0  \n",
       "PhD             85.0    103.0  \n",
       "Terminal        92.0    100.0  \n",
       "S.F.Ratio       16.5     39.8  \n",
       "perc.alumni     31.0     64.0  \n",
       "Expend       10830.0  56233.0  \n",
       "Grad.Rate       78.0    118.0  "
      ]
     },
     "execution_count": 16,
     "metadata": {},
     "output_type": "execute_result"
    }
   ],
   "source": [
    "df.describe().T"
   ]
  },
  {
   "cell_type": "code",
   "execution_count": 17,
   "metadata": {},
   "outputs": [
    {
     "name": "stdout",
     "output_type": "stream",
     "text": [
      "<class 'pandas.core.frame.DataFrame'>\n",
      "RangeIndex: 777 entries, 0 to 776\n",
      "Data columns (total 18 columns):\n",
      " #   Column       Non-Null Count  Dtype  \n",
      "---  ------       --------------  -----  \n",
      " 0   Names        777 non-null    object \n",
      " 1   Apps         777 non-null    int64  \n",
      " 2   Accept       777 non-null    int64  \n",
      " 3   Enroll       777 non-null    int64  \n",
      " 4   Top10perc    777 non-null    int64  \n",
      " 5   Top25perc    777 non-null    int64  \n",
      " 6   F.Undergrad  777 non-null    int64  \n",
      " 7   P.Undergrad  777 non-null    int64  \n",
      " 8   Outstate     777 non-null    int64  \n",
      " 9   Room.Board   777 non-null    int64  \n",
      " 10  Books        777 non-null    int64  \n",
      " 11  Personal     777 non-null    int64  \n",
      " 12  PhD          777 non-null    int64  \n",
      " 13  Terminal     777 non-null    int64  \n",
      " 14  S.F.Ratio    777 non-null    float64\n",
      " 15  perc.alumni  777 non-null    int64  \n",
      " 16  Expend       777 non-null    int64  \n",
      " 17  Grad.Rate    777 non-null    int64  \n",
      "dtypes: float64(1), int64(16), object(1)\n",
      "memory usage: 109.4+ KB\n"
     ]
    }
   ],
   "source": [
    "df.info()"
   ]
  },
  {
   "cell_type": "code",
   "execution_count": 18,
   "metadata": {},
   "outputs": [
    {
     "data": {
      "text/plain": [
       "Names          0\n",
       "Apps           0\n",
       "Accept         0\n",
       "Enroll         0\n",
       "Top10perc      0\n",
       "Top25perc      0\n",
       "F.Undergrad    0\n",
       "P.Undergrad    0\n",
       "Outstate       0\n",
       "Room.Board     0\n",
       "Books          0\n",
       "Personal       0\n",
       "PhD            0\n",
       "Terminal       0\n",
       "S.F.Ratio      0\n",
       "perc.alumni    0\n",
       "Expend         0\n",
       "Grad.Rate      0\n",
       "dtype: int64"
      ]
     },
     "execution_count": 18,
     "metadata": {},
     "output_type": "execute_result"
    }
   ],
   "source": [
    "df.isnull().sum()"
   ]
  },
  {
   "cell_type": "code",
   "execution_count": 19,
   "metadata": {},
   "outputs": [
    {
     "data": {
      "text/plain": [
       "Index(['Names', 'Apps', 'Accept', 'Enroll', 'Top10perc', 'Top25perc',\n",
       "       'F.Undergrad', 'P.Undergrad', 'Outstate', 'Room.Board', 'Books',\n",
       "       'Personal', 'PhD', 'Terminal', 'S.F.Ratio', 'perc.alumni', 'Expend',\n",
       "       'Grad.Rate'],\n",
       "      dtype='object')"
      ]
     },
     "execution_count": 19,
     "metadata": {},
     "output_type": "execute_result"
    }
   ],
   "source": [
    "df.columns"
   ]
  },
  {
   "cell_type": "code",
   "execution_count": 20,
   "metadata": {},
   "outputs": [
    {
     "data": {
      "text/html": [
       "<div>\n",
       "<style scoped>\n",
       "    .dataframe tbody tr th:only-of-type {\n",
       "        vertical-align: middle;\n",
       "    }\n",
       "\n",
       "    .dataframe tbody tr th {\n",
       "        vertical-align: top;\n",
       "    }\n",
       "\n",
       "    .dataframe thead th {\n",
       "        text-align: right;\n",
       "    }\n",
       "</style>\n",
       "<table border=\"1\" class=\"dataframe\">\n",
       "  <thead>\n",
       "    <tr style=\"text-align: right;\">\n",
       "      <th></th>\n",
       "      <th>Names</th>\n",
       "      <th>Apps</th>\n",
       "      <th>Accept</th>\n",
       "      <th>Enroll</th>\n",
       "      <th>Top10perc</th>\n",
       "      <th>Top25perc</th>\n",
       "      <th>F.Undergrad</th>\n",
       "      <th>P.Undergrad</th>\n",
       "      <th>Outstate</th>\n",
       "      <th>Room.Board</th>\n",
       "      <th>Books</th>\n",
       "      <th>Personal</th>\n",
       "      <th>PhD</th>\n",
       "      <th>Terminal</th>\n",
       "      <th>S.F.Ratio</th>\n",
       "      <th>perc.alumni</th>\n",
       "      <th>Expend</th>\n",
       "      <th>Grad.Rate</th>\n",
       "    </tr>\n",
       "  </thead>\n",
       "  <tbody>\n",
       "  </tbody>\n",
       "</table>\n",
       "</div>"
      ],
      "text/plain": [
       "Empty DataFrame\n",
       "Columns: [Names, Apps, Accept, Enroll, Top10perc, Top25perc, F.Undergrad, P.Undergrad, Outstate, Room.Board, Books, Personal, PhD, Terminal, S.F.Ratio, perc.alumni, Expend, Grad.Rate]\n",
       "Index: []"
      ]
     },
     "execution_count": 20,
     "metadata": {},
     "output_type": "execute_result"
    }
   ],
   "source": [
    "dups = df.duplicated()\n",
    "df[dups]"
   ]
  },
  {
   "cell_type": "code",
   "execution_count": 21,
   "metadata": {},
   "outputs": [
    {
     "data": {
      "image/png": "[encoded data removed]",
      "text/plain": [
       "<Figure size 1440x720 with 1 Axes>"
      ]
     },
     "metadata": {
      "needs_background": "light"
     },
     "output_type": "display_data"
    }
   ],
   "source": [
    "plt.figure(figsize=(20,10))\n",
    "sns.boxplot(data=df)\n",
    "plt.show()"
   ]
  },
  {
   "cell_type": "code",
   "execution_count": 22,
   "metadata": {},
   "outputs": [
    {
     "data": {
      "text/html": [
       "<div>\n",
       "<style scoped>\n",
       "    .dataframe tbody tr th:only-of-type {\n",
       "        vertical-align: middle;\n",
       "    }\n",
       "\n",
       "    .dataframe tbody tr th {\n",
       "        vertical-align: top;\n",
       "    }\n",
       "\n",
       "    .dataframe thead th {\n",
       "        text-align: right;\n",
       "    }\n",
       "</style>\n",
       "<table border=\"1\" class=\"dataframe\">\n",
       "  <thead>\n",
       "    <tr style=\"text-align: right;\">\n",
       "      <th></th>\n",
       "      <th>Apps</th>\n",
       "      <th>Accept</th>\n",
       "      <th>Enroll</th>\n",
       "      <th>Top10perc</th>\n",
       "      <th>Top25perc</th>\n",
       "      <th>F.Undergrad</th>\n",
       "      <th>P.Undergrad</th>\n",
       "      <th>Outstate</th>\n",
       "      <th>Room.Board</th>\n",
       "      <th>Books</th>\n",
       "      <th>Personal</th>\n",
       "      <th>PhD</th>\n",
       "      <th>Terminal</th>\n",
       "      <th>S.F.Ratio</th>\n",
       "      <th>perc.alumni</th>\n",
       "      <th>Expend</th>\n",
       "      <th>Grad.Rate</th>\n",
       "    </tr>\n",
       "  </thead>\n",
       "  <tbody>\n",
       "    <tr>\n",
       "      <th>Apps</th>\n",
       "      <td>1.000000</td>\n",
       "      <td>0.943451</td>\n",
       "      <td>0.846822</td>\n",
       "      <td>0.338834</td>\n",
       "      <td>0.351640</td>\n",
       "      <td>0.814491</td>\n",
       "      <td>0.398264</td>\n",
       "      <td>0.050159</td>\n",
       "      <td>0.164939</td>\n",
       "      <td>0.132559</td>\n",
       "      <td>0.178731</td>\n",
       "      <td>0.390697</td>\n",
       "      <td>0.369491</td>\n",
       "      <td>0.095633</td>\n",
       "      <td>-0.090226</td>\n",
       "      <td>0.259592</td>\n",
       "      <td>0.146755</td>\n",
       "    </tr>\n",
       "    <tr>\n",
       "      <th>Accept</th>\n",
       "      <td>0.943451</td>\n",
       "      <td>1.000000</td>\n",
       "      <td>0.911637</td>\n",
       "      <td>0.192447</td>\n",
       "      <td>0.247476</td>\n",
       "      <td>0.874223</td>\n",
       "      <td>0.441271</td>\n",
       "      <td>-0.025755</td>\n",
       "      <td>0.090899</td>\n",
       "      <td>0.113525</td>\n",
       "      <td>0.200989</td>\n",
       "      <td>0.355758</td>\n",
       "      <td>0.337583</td>\n",
       "      <td>0.176229</td>\n",
       "      <td>-0.159990</td>\n",
       "      <td>0.124717</td>\n",
       "      <td>0.067313</td>\n",
       "    </tr>\n",
       "    <tr>\n",
       "      <th>Enroll</th>\n",
       "      <td>0.846822</td>\n",
       "      <td>0.911637</td>\n",
       "      <td>1.000000</td>\n",
       "      <td>0.181294</td>\n",
       "      <td>0.226745</td>\n",
       "      <td>0.964640</td>\n",
       "      <td>0.513069</td>\n",
       "      <td>-0.155477</td>\n",
       "      <td>-0.040232</td>\n",
       "      <td>0.112711</td>\n",
       "      <td>0.280929</td>\n",
       "      <td>0.331469</td>\n",
       "      <td>0.308274</td>\n",
       "      <td>0.237271</td>\n",
       "      <td>-0.180794</td>\n",
       "      <td>0.064169</td>\n",
       "      <td>-0.022341</td>\n",
       "    </tr>\n",
       "    <tr>\n",
       "      <th>Top10perc</th>\n",
       "      <td>0.338834</td>\n",
       "      <td>0.192447</td>\n",
       "      <td>0.181294</td>\n",
       "      <td>1.000000</td>\n",
       "      <td>0.891995</td>\n",
       "      <td>0.141289</td>\n",
       "      <td>-0.105356</td>\n",
       "      <td>0.562331</td>\n",
       "      <td>0.371480</td>\n",
       "      <td>0.118858</td>\n",
       "      <td>-0.093316</td>\n",
       "      <td>0.531828</td>\n",
       "      <td>0.491135</td>\n",
       "      <td>-0.384875</td>\n",
       "      <td>0.455485</td>\n",
       "      <td>0.660913</td>\n",
       "      <td>0.494989</td>\n",
       "    </tr>\n",
       "    <tr>\n",
       "      <th>Top25perc</th>\n",
       "      <td>0.351640</td>\n",
       "      <td>0.247476</td>\n",
       "      <td>0.226745</td>\n",
       "      <td>0.891995</td>\n",
       "      <td>1.000000</td>\n",
       "      <td>0.199445</td>\n",
       "      <td>-0.053577</td>\n",
       "      <td>0.489394</td>\n",
       "      <td>0.331490</td>\n",
       "      <td>0.115527</td>\n",
       "      <td>-0.080810</td>\n",
       "      <td>0.545862</td>\n",
       "      <td>0.524749</td>\n",
       "      <td>-0.294629</td>\n",
       "      <td>0.417864</td>\n",
       "      <td>0.527447</td>\n",
       "      <td>0.477281</td>\n",
       "    </tr>\n",
       "    <tr>\n",
       "      <th>F.Undergrad</th>\n",
       "      <td>0.814491</td>\n",
       "      <td>0.874223</td>\n",
       "      <td>0.964640</td>\n",
       "      <td>0.141289</td>\n",
       "      <td>0.199445</td>\n",
       "      <td>1.000000</td>\n",
       "      <td>0.570512</td>\n",
       "      <td>-0.215742</td>\n",
       "      <td>-0.068890</td>\n",
       "      <td>0.115550</td>\n",
       "      <td>0.317200</td>\n",
       "      <td>0.318337</td>\n",
       "      <td>0.300019</td>\n",
       "      <td>0.279703</td>\n",
       "      <td>-0.229462</td>\n",
       "      <td>0.018652</td>\n",
       "      <td>-0.078773</td>\n",
       "    </tr>\n",
       "    <tr>\n",
       "      <th>P.Undergrad</th>\n",
       "      <td>0.398264</td>\n",
       "      <td>0.441271</td>\n",
       "      <td>0.513069</td>\n",
       "      <td>-0.105356</td>\n",
       "      <td>-0.053577</td>\n",
       "      <td>0.570512</td>\n",
       "      <td>1.000000</td>\n",
       "      <td>-0.253512</td>\n",
       "      <td>-0.061326</td>\n",
       "      <td>0.081200</td>\n",
       "      <td>0.319882</td>\n",
       "      <td>0.149114</td>\n",
       "      <td>0.141904</td>\n",
       "      <td>0.232531</td>\n",
       "      <td>-0.280792</td>\n",
       "      <td>-0.083568</td>\n",
       "      <td>-0.257001</td>\n",
       "    </tr>\n",
       "    <tr>\n",
       "      <th>Outstate</th>\n",
       "      <td>0.050159</td>\n",
       "      <td>-0.025755</td>\n",
       "      <td>-0.155477</td>\n",
       "      <td>0.562331</td>\n",
       "      <td>0.489394</td>\n",
       "      <td>-0.215742</td>\n",
       "      <td>-0.253512</td>\n",
       "      <td>1.000000</td>\n",
       "      <td>0.654256</td>\n",
       "      <td>0.038855</td>\n",
       "      <td>-0.299087</td>\n",
       "      <td>0.382982</td>\n",
       "      <td>0.407983</td>\n",
       "      <td>-0.554821</td>\n",
       "      <td>0.566262</td>\n",
       "      <td>0.672779</td>\n",
       "      <td>0.571290</td>\n",
       "    </tr>\n",
       "    <tr>\n",
       "      <th>Room.Board</th>\n",
       "      <td>0.164939</td>\n",
       "      <td>0.090899</td>\n",
       "      <td>-0.040232</td>\n",
       "      <td>0.371480</td>\n",
       "      <td>0.331490</td>\n",
       "      <td>-0.068890</td>\n",
       "      <td>-0.061326</td>\n",
       "      <td>0.654256</td>\n",
       "      <td>1.000000</td>\n",
       "      <td>0.127963</td>\n",
       "      <td>-0.199428</td>\n",
       "      <td>0.329202</td>\n",
       "      <td>0.374540</td>\n",
       "      <td>-0.362628</td>\n",
       "      <td>0.272363</td>\n",
       "      <td>0.501739</td>\n",
       "      <td>0.424942</td>\n",
       "    </tr>\n",
       "    <tr>\n",
       "      <th>Books</th>\n",
       "      <td>0.132559</td>\n",
       "      <td>0.113525</td>\n",
       "      <td>0.112711</td>\n",
       "      <td>0.118858</td>\n",
       "      <td>0.115527</td>\n",
       "      <td>0.115550</td>\n",
       "      <td>0.081200</td>\n",
       "      <td>0.038855</td>\n",
       "      <td>0.127963</td>\n",
       "      <td>1.000000</td>\n",
       "      <td>0.179295</td>\n",
       "      <td>0.026906</td>\n",
       "      <td>0.099955</td>\n",
       "      <td>-0.031929</td>\n",
       "      <td>-0.040208</td>\n",
       "      <td>0.112409</td>\n",
       "      <td>0.001061</td>\n",
       "    </tr>\n",
       "    <tr>\n",
       "      <th>Personal</th>\n",
       "      <td>0.178731</td>\n",
       "      <td>0.200989</td>\n",
       "      <td>0.280929</td>\n",
       "      <td>-0.093316</td>\n",
       "      <td>-0.080810</td>\n",
       "      <td>0.317200</td>\n",
       "      <td>0.319882</td>\n",
       "      <td>-0.299087</td>\n",
       "      <td>-0.199428</td>\n",
       "      <td>0.179295</td>\n",
       "      <td>1.000000</td>\n",
       "      <td>-0.010936</td>\n",
       "      <td>-0.030613</td>\n",
       "      <td>0.136345</td>\n",
       "      <td>-0.285968</td>\n",
       "      <td>-0.097892</td>\n",
       "      <td>-0.269344</td>\n",
       "    </tr>\n",
       "    <tr>\n",
       "      <th>PhD</th>\n",
       "      <td>0.390697</td>\n",
       "      <td>0.355758</td>\n",
       "      <td>0.331469</td>\n",
       "      <td>0.531828</td>\n",
       "      <td>0.545862</td>\n",
       "      <td>0.318337</td>\n",
       "      <td>0.149114</td>\n",
       "      <td>0.382982</td>\n",
       "      <td>0.329202</td>\n",
       "      <td>0.026906</td>\n",
       "      <td>-0.010936</td>\n",
       "      <td>1.000000</td>\n",
       "      <td>0.849587</td>\n",
       "      <td>-0.130530</td>\n",
       "      <td>0.249009</td>\n",
       "      <td>0.432762</td>\n",
       "      <td>0.305038</td>\n",
       "    </tr>\n",
       "    <tr>\n",
       "      <th>Terminal</th>\n",
       "      <td>0.369491</td>\n",
       "      <td>0.337583</td>\n",
       "      <td>0.308274</td>\n",
       "      <td>0.491135</td>\n",
       "      <td>0.524749</td>\n",
       "      <td>0.300019</td>\n",
       "      <td>0.141904</td>\n",
       "      <td>0.407983</td>\n",
       "      <td>0.374540</td>\n",
       "      <td>0.099955</td>\n",
       "      <td>-0.030613</td>\n",
       "      <td>0.849587</td>\n",
       "      <td>1.000000</td>\n",
       "      <td>-0.160104</td>\n",
       "      <td>0.267130</td>\n",
       "      <td>0.438799</td>\n",
       "      <td>0.289527</td>\n",
       "    </tr>\n",
       "    <tr>\n",
       "      <th>S.F.Ratio</th>\n",
       "      <td>0.095633</td>\n",
       "      <td>0.176229</td>\n",
       "      <td>0.237271</td>\n",
       "      <td>-0.384875</td>\n",
       "      <td>-0.294629</td>\n",
       "      <td>0.279703</td>\n",
       "      <td>0.232531</td>\n",
       "      <td>-0.554821</td>\n",
       "      <td>-0.362628</td>\n",
       "      <td>-0.031929</td>\n",
       "      <td>0.136345</td>\n",
       "      <td>-0.130530</td>\n",
       "      <td>-0.160104</td>\n",
       "      <td>1.000000</td>\n",
       "      <td>-0.402929</td>\n",
       "      <td>-0.583832</td>\n",
       "      <td>-0.306710</td>\n",
       "    </tr>\n",
       "    <tr>\n",
       "      <th>perc.alumni</th>\n",
       "      <td>-0.090226</td>\n",
       "      <td>-0.159990</td>\n",
       "      <td>-0.180794</td>\n",
       "      <td>0.455485</td>\n",
       "      <td>0.417864</td>\n",
       "      <td>-0.229462</td>\n",
       "      <td>-0.280792</td>\n",
       "      <td>0.566262</td>\n",
       "      <td>0.272363</td>\n",
       "      <td>-0.040208</td>\n",
       "      <td>-0.285968</td>\n",
       "      <td>0.249009</td>\n",
       "      <td>0.267130</td>\n",
       "      <td>-0.402929</td>\n",
       "      <td>1.000000</td>\n",
       "      <td>0.417712</td>\n",
       "      <td>0.490898</td>\n",
       "    </tr>\n",
       "    <tr>\n",
       "      <th>Expend</th>\n",
       "      <td>0.259592</td>\n",
       "      <td>0.124717</td>\n",
       "      <td>0.064169</td>\n",
       "      <td>0.660913</td>\n",
       "      <td>0.527447</td>\n",
       "      <td>0.018652</td>\n",
       "      <td>-0.083568</td>\n",
       "      <td>0.672779</td>\n",
       "      <td>0.501739</td>\n",
       "      <td>0.112409</td>\n",
       "      <td>-0.097892</td>\n",
       "      <td>0.432762</td>\n",
       "      <td>0.438799</td>\n",
       "      <td>-0.583832</td>\n",
       "      <td>0.417712</td>\n",
       "      <td>1.000000</td>\n",
       "      <td>0.390343</td>\n",
       "    </tr>\n",
       "    <tr>\n",
       "      <th>Grad.Rate</th>\n",
       "      <td>0.146755</td>\n",
       "      <td>0.067313</td>\n",
       "      <td>-0.022341</td>\n",
       "      <td>0.494989</td>\n",
       "      <td>0.477281</td>\n",
       "      <td>-0.078773</td>\n",
       "      <td>-0.257001</td>\n",
       "      <td>0.571290</td>\n",
       "      <td>0.424942</td>\n",
       "      <td>0.001061</td>\n",
       "      <td>-0.269344</td>\n",
       "      <td>0.305038</td>\n",
       "      <td>0.289527</td>\n",
       "      <td>-0.306710</td>\n",
       "      <td>0.490898</td>\n",
       "      <td>0.390343</td>\n",
       "      <td>1.000000</td>\n",
       "    </tr>\n",
       "  </tbody>\n",
       "</table>\n",
       "</div>"
      ],
      "text/plain": [
       "                 Apps    Accept    Enroll  Top10perc  Top25perc  F.Undergrad  \\\n",
       "Apps         1.000000  0.943451  0.846822   0.338834   0.351640     0.814491   \n",
       "Accept       0.943451  1.000000  0.911637   0.192447   0.247476     0.874223   \n",
       "Enroll       0.846822  0.911637  1.000000   0.181294   0.226745     0.964640   \n",
       "Top10perc    0.338834  0.192447  0.181294   1.000000   0.891995     0.141289   \n",
       "Top25perc    0.351640  0.247476  0.226745   0.891995   1.000000     0.199445   \n",
       "F.Undergrad  0.814491  0.874223  0.964640   0.141289   0.199445     1.000000   \n",
       "P.Undergrad  0.398264  0.441271  0.513069  -0.105356  -0.053577     0.570512   \n",
       "Outstate     0.050159 -0.025755 -0.155477   0.562331   0.489394    -0.215742   \n",
       "Room.Board   0.164939  0.090899 -0.040232   0.371480   0.331490    -0.068890   \n",
       "Books        0.132559  0.113525  0.112711   0.118858   0.115527     0.115550   \n",
       "Personal     0.178731  0.200989  0.280929  -0.093316  -0.080810     0.317200   \n",
       "PhD          0.390697  0.355758  0.331469   0.531828   0.545862     0.318337   \n",
       "Terminal     0.369491  0.337583  0.308274   0.491135   0.524749     0.300019   \n",
       "S.F.Ratio    0.095633  0.176229  0.237271  -0.384875  -0.294629     0.279703   \n",
       "perc.alumni -0.090226 -0.159990 -0.180794   0.455485   0.417864    -0.229462   \n",
       "Expend       0.259592  0.124717  0.064169   0.660913   0.527447     0.018652   \n",
       "Grad.Rate    0.146755  0.067313 -0.022341   0.494989   0.477281    -0.078773   \n",
       "\n",
       "             P.Undergrad  Outstate  Room.Board     Books  Personal       PhD  \\\n",
       "Apps            0.398264  0.050159    0.164939  0.132559  0.178731  0.390697   \n",
       "Accept          0.441271 -0.025755    0.090899  0.113525  0.200989  0.355758   \n",
       "Enroll          0.513069 -0.155477   -0.040232  0.112711  0.280929  0.331469   \n",
       "Top10perc      -0.105356  0.562331    0.371480  0.118858 -0.093316  0.531828   \n",
       "Top25perc      -0.053577  0.489394    0.331490  0.115527 -0.080810  0.545862   \n",
       "F.Undergrad     0.570512 -0.215742   -0.068890  0.115550  0.317200  0.318337   \n",
       "P.Undergrad     1.000000 -0.253512   -0.061326  0.081200  0.319882  0.149114   \n",
       "Outstate       -0.253512  1.000000    0.654256  0.038855 -0.299087  0.382982   \n",
       "Room.Board     -0.061326  0.654256    1.000000  0.127963 -0.199428  0.329202   \n",
       "Books           0.081200  0.038855    0.127963  1.000000  0.179295  0.026906   \n",
       "Personal        0.319882 -0.299087   -0.199428  0.179295  1.000000 -0.010936   \n",
       "PhD             0.149114  0.382982    0.329202  0.026906 -0.010936  1.000000   \n",
       "Terminal        0.141904  0.407983    0.374540  0.099955 -0.030613  0.849587   \n",
       "S.F.Ratio       0.232531 -0.554821   -0.362628 -0.031929  0.136345 -0.130530   \n",
       "perc.alumni    -0.280792  0.566262    0.272363 -0.040208 -0.285968  0.249009   \n",
       "Expend         -0.083568  0.672779    0.501739  0.112409 -0.097892  0.432762   \n",
       "Grad.Rate      -0.257001  0.571290    0.424942  0.001061 -0.269344  0.305038   \n",
       "\n",
       "             Terminal  S.F.Ratio  perc.alumni    Expend  Grad.Rate  \n",
       "Apps         0.369491   0.095633    -0.090226  0.259592   0.146755  \n",
       "Accept       0.337583   0.176229    -0.159990  0.124717   0.067313  \n",
       "Enroll       0.308274   0.237271    -0.180794  0.064169  -0.022341  \n",
       "Top10perc    0.491135  -0.384875     0.455485  0.660913   0.494989  \n",
       "Top25perc    0.524749  -0.294629     0.417864  0.527447   0.477281  \n",
       "F.Undergrad  0.300019   0.279703    -0.229462  0.018652  -0.078773  \n",
       "P.Undergrad  0.141904   0.232531    -0.280792 -0.083568  -0.257001  \n",
       "Outstate     0.407983  -0.554821     0.566262  0.672779   0.571290  \n",
       "Room.Board   0.374540  -0.362628     0.272363  0.501739   0.424942  \n",
       "Books        0.099955  -0.031929    -0.040208  0.112409   0.001061  \n",
       "Personal    -0.030613   0.136345    -0.285968 -0.097892  -0.269344  \n",
       "PhD          0.849587  -0.130530     0.249009  0.432762   0.305038  \n",
       "Terminal     1.000000  -0.160104     0.267130  0.438799   0.289527  \n",
       "S.F.Ratio   -0.160104   1.000000    -0.402929 -0.583832  -0.306710  \n",
       "perc.alumni  0.267130  -0.402929     1.000000  0.417712   0.490898  \n",
       "Expend       0.438799  -0.583832     0.417712  1.000000   0.390343  \n",
       "Grad.Rate    0.289527  -0.306710     0.490898  0.390343   1.000000  "
      ]
     },
     "execution_count": 22,
     "metadata": {},
     "output_type": "execute_result"
    }
   ],
   "source": [
    "df.corr()"
   ]
  },
  {
   "cell_type": "code",
   "execution_count": 23,
   "metadata": {},
   "outputs": [
    {
     "data": {
      "image/png": "[encoded data removed]",
      "text/plain": [
       "<Figure size 1440x864 with 2 Axes>"
      ]
     },
     "metadata": {
      "needs_background": "light"
     },
     "output_type": "display_data"
    }
   ],
   "source": [
    "correlation = df.corr()\n",
    "plt.figure(figsize=(20,12))\n",
    "sns.heatmap(correlation, vmax=1, square=True,annot=True,cmap='cubehelix')\n",
    "plt.xticks(rotation=90)\n",
    "plt.title('Correlation between different features')\n",
    "plt.show()"
   ]
  },
  {
   "cell_type": "markdown",
   "metadata": {},
   "source": [
    "## EDA"
   ]
  },
  {
   "cell_type": "markdown",
   "metadata": {},
   "source": [
    "### Univariate Analysis"
   ]
  },
  {
   "cell_type": "code",
   "execution_count": 24,
   "metadata": {},
   "outputs": [],
   "source": [
    "def univariateAnalysis_numeric(column,nbins):\n",
    "    print(\"Description of \" + column)\n",
    "    print(\"----------------------------------------------------------------------------\")\n",
    "    print(df[column].describe(),end=' ')\n",
    "    \n",
    "    \n",
    "    plt.figure()\n",
    "    print(\"Distribution of \" + column)\n",
    "    print(\"----------------------------------------------------------------------------\")\n",
    "    sns.distplot(df[column], kde=False, color='g');\n",
    "    plt.show()\n",
    "    \n",
    "    plt.figure()\n",
    "    print(\"BoxPlot of \" + column)\n",
    "    print(\"----------------------------------------------------------------------------\")\n",
    "    sns.boxplot(x=df[column])\n",
    "    plt.show()"
   ]
  },
  {
   "cell_type": "code",
   "execution_count": 25,
   "metadata": {},
   "outputs": [
    {
     "name": "stdout",
     "output_type": "stream",
     "text": [
      "Description of F.Undergrad\n",
      "----------------------------------------------------------------------------\n",
      "count      777.000000\n",
      "mean      3699.907336\n",
      "std       4850.420531\n",
      "min        139.000000\n",
      "25%        992.000000\n",
      "50%       1707.000000\n",
      "75%       4005.000000\n",
      "max      31643.000000\n",
      "Name: F.Undergrad, dtype: float64 Distribution of F.Undergrad\n",
      "----------------------------------------------------------------------------\n"
     ]
    },
    {
     "data": {
      "image/png": "[encoded data removed]",
      "text/plain": [
       "<Figure size 432x288 with 1 Axes>"
      ]
     },
     "metadata": {
      "needs_background": "light"
     },
     "output_type": "display_data"
    },
    {
     "name": "stdout",
     "output_type": "stream",
     "text": [
      "BoxPlot of F.Undergrad\n",
      "----------------------------------------------------------------------------\n"
     ]
    },
    {
     "data": {
      "image/png": "[encoded data removed]",
      "text/plain": [
       "<Figure size 432x288 with 1 Axes>"
      ]
     },
     "metadata": {
      "needs_background": "light"
     },
     "output_type": "display_data"
    }
   ],
   "source": [
    "univariateAnalysis_numeric('F.Undergrad',20)"
   ]
  },
  {
   "cell_type": "code",
   "execution_count": 26,
   "metadata": {},
   "outputs": [
    {
     "data": {
      "text/plain": [
       "17"
      ]
     },
     "execution_count": 26,
     "metadata": {},
     "output_type": "execute_result"
    }
   ],
   "source": [
    "df_num = df.select_dtypes(include = ['float64', 'int64'])\n",
    "lstnumericcolumns = list(df_num.columns.values)\n",
    "len(lstnumericcolumns)"
   ]
  },
  {
   "cell_type": "code",
   "execution_count": 27,
   "metadata": {},
   "outputs": [
    {
     "name": "stdout",
     "output_type": "stream",
     "text": [
      "Description of Apps\n",
      "----------------------------------------------------------------------------\n",
      "count      777.000000\n",
      "mean      3001.638353\n",
      "std       3870.201484\n",
      "min         81.000000\n",
      "25%        776.000000\n",
      "50%       1558.000000\n",
      "75%       3624.000000\n",
      "max      48094.000000\n",
      "Name: Apps, dtype: float64 Distribution of Apps\n",
      "----------------------------------------------------------------------------\n"
     ]
    },
    {
     "data": {
      "image/png": "[encoded data removed]",
      "text/plain": [
       "<Figure size 432x288 with 1 Axes>"
      ]
     },
     "metadata": {
      "needs_background": "light"
     },
     "output_type": "display_data"
    },
    {
     "name": "stdout",
     "output_type": "stream",
     "text": [
      "BoxPlot of Apps\n",
      "----------------------------------------------------------------------------\n"
     ]
    },
    {
     "data": {
      "image/png": "[encoded data removed]",
      "text/plain": [
       "<Figure size 432x288 with 1 Axes>"
      ]
     },
     "metadata": {
      "needs_background": "light"
     },
     "output_type": "display_data"
    },
    {
     "name": "stdout",
     "output_type": "stream",
     "text": [
      "Description of Accept\n",
      "----------------------------------------------------------------------------\n",
      "count      777.000000\n",
      "mean      2018.804376\n",
      "std       2451.113971\n",
      "min         72.000000\n",
      "25%        604.000000\n",
      "50%       1110.000000\n",
      "75%       2424.000000\n",
      "max      26330.000000\n",
      "Name: Accept, dtype: float64 Distribution of Accept\n",
      "----------------------------------------------------------------------------\n"
     ]
    },
    {
     "data": {
      "image/png": "[encoded data removed]",
      "text/plain": [
       "<Figure size 432x288 with 1 Axes>"
      ]
     },
     "metadata": {
      "needs_background": "light"
     },
     "output_type": "display_data"
    },
    {
     "name": "stdout",
     "output_type": "stream",
     "text": [
      "BoxPlot of Accept\n",
      "----------------------------------------------------------------------------\n"
     ]
    },
    {
     "data": {
      "image/png": "[encoded data removed]",
      "text/plain": [
       "<Figure size 432x288 with 1 Axes>"
      ]
     },
     "metadata": {
      "needs_background": "light"
     },
     "output_type": "display_data"
    },
    {
     "name": "stdout",
     "output_type": "stream",
     "text": [
      "Description of Enroll\n",
      "----------------------------------------------------------------------------\n",
      "count     777.000000\n",
      "mean      779.972973\n",
      "std       929.176190\n",
      "min        35.000000\n",
      "25%       242.000000\n",
      "50%       434.000000\n",
      "75%       902.000000\n",
      "max      6392.000000\n",
      "Name: Enroll, dtype: float64 Distribution of Enroll\n",
      "----------------------------------------------------------------------------\n"
     ]
    },
    {
     "data": {
      "image/png": "[encoded data removed]",
      "text/plain": [
       "<Figure size 432x288 with 1 Axes>"
      ]
     },
     "metadata": {
      "needs_background": "light"
     },
     "output_type": "display_data"
    },
    {
     "name": "stdout",
     "output_type": "stream",
     "text": [
      "BoxPlot of Enroll\n",
      "----------------------------------------------------------------------------\n"
     ]
    },
    {
     "data": {
      "image/png": "[encoded data removed]",
      "text/plain": [
       "<Figure size 432x288 with 1 Axes>"
      ]
     },
     "metadata": {
      "needs_background": "light"
     },
     "output_type": "display_data"
    },
    {
     "name": "stdout",
     "output_type": "stream",
     "text": [
      "Description of Top10perc\n",
      "----------------------------------------------------------------------------\n",
      "count    777.000000\n",
      "mean      27.558559\n",
      "std       17.640364\n",
      "min        1.000000\n",
      "25%       15.000000\n",
      "50%       23.000000\n",
      "75%       35.000000\n",
      "max       96.000000\n",
      "Name: Top10perc, dtype: float64 Distribution of Top10perc\n",
      "----------------------------------------------------------------------------\n"
     ]
    },
    {
     "data": {
      "image/png": "[encoded data removed]",
      "text/plain": [
       "<Figure size 432x288 with 1 Axes>"
      ]
     },
     "metadata": {
      "needs_background": "light"
     },
     "output_type": "display_data"
    },
    {
     "name": "stdout",
     "output_type": "stream",
     "text": [
      "BoxPlot of Top10perc\n",
      "----------------------------------------------------------------------------\n"
     ]
    },
    {
     "data": {
      "image/png": "[encoded data removed]",
      "text/plain": [
       "<Figure size 432x288 with 1 Axes>"
      ]
     },
     "metadata": {
      "needs_background": "light"
     },
     "output_type": "display_data"
    },
    {
     "name": "stdout",
     "output_type": "stream",
     "text": [
      "Description of Top25perc\n",
      "----------------------------------------------------------------------------\n",
      "count    777.000000\n",
      "mean      55.796654\n",
      "std       19.804778\n",
      "min        9.000000\n",
      "25%       41.000000\n",
      "50%       54.000000\n",
      "75%       69.000000\n",
      "max      100.000000\n",
      "Name: Top25perc, dtype: float64 Distribution of Top25perc\n",
      "----------------------------------------------------------------------------\n"
     ]
    },
    {
     "data": {
      "image/png": "[encoded data removed]",
      "text/plain": [
       "<Figure size 432x288 with 1 Axes>"
      ]
     },
     "metadata": {
      "needs_background": "light"
     },
     "output_type": "display_data"
    },
    {
     "name": "stdout",
     "output_type": "stream",
     "text": [
      "BoxPlot of Top25perc\n",
      "----------------------------------------------------------------------------\n"
     ]
    },
    {
     "data": {
      "image/png": "[encoded data removed]",
      "text/plain": [
       "<Figure size 432x288 with 1 Axes>"
      ]
     },
     "metadata": {
      "needs_background": "light"
     },
     "output_type": "display_data"
    },
    {
     "name": "stdout",
     "output_type": "stream",
     "text": [
      "Description of F.Undergrad\n",
      "----------------------------------------------------------------------------\n",
      "count      777.000000\n",
      "mean      3699.907336\n",
      "std       4850.420531\n",
      "min        139.000000\n",
      "25%        992.000000\n",
      "50%       1707.000000\n",
      "75%       4005.000000\n",
      "max      31643.000000\n",
      "Name: F.Undergrad, dtype: float64 Distribution of F.Undergrad\n",
      "----------------------------------------------------------------------------\n"
     ]
    },
    {
     "data": {
      "image/png": "[encoded data removed]",
      "text/plain": [
       "<Figure size 432x288 with 1 Axes>"
      ]
     },
     "metadata": {
      "needs_background": "light"
     },
     "output_type": "display_data"
    },
    {
     "name": "stdout",
     "output_type": "stream",
     "text": [
      "BoxPlot of F.Undergrad\n",
      "----------------------------------------------------------------------------\n"
     ]
    },
    {
     "data": {
      "image/png": "[encoded data removed]",
      "text/plain": [
       "<Figure size 432x288 with 1 Axes>"
      ]
     },
     "metadata": {
      "needs_background": "light"
     },
     "output_type": "display_data"
    },
    {
     "name": "stdout",
     "output_type": "stream",
     "text": [
      "Description of P.Undergrad\n",
      "----------------------------------------------------------------------------\n",
      "count      777.000000\n",
      "mean       855.298584\n",
      "std       1522.431887\n",
      "min          1.000000\n",
      "25%         95.000000\n",
      "50%        353.000000\n",
      "75%        967.000000\n",
      "max      21836.000000\n",
      "Name: P.Undergrad, dtype: float64 Distribution of P.Undergrad\n",
      "----------------------------------------------------------------------------\n"
     ]
    },
    {
     "data": {
      "image/png": "[encoded data removed]",
      "text/plain": [
       "<Figure size 432x288 with 1 Axes>"
      ]
     },
     "metadata": {
      "needs_background": "light"
     },
     "output_type": "display_data"
    },
    {
     "name": "stdout",
     "output_type": "stream",
     "text": [
      "BoxPlot of P.Undergrad\n",
      "----------------------------------------------------------------------------\n"
     ]
    },
    {
     "data": {
      "image/png": "[encoded data removed]",
      "text/plain": [
       "<Figure size 432x288 with 1 Axes>"
      ]
     },
     "metadata": {
      "needs_background": "light"
     },
     "output_type": "display_data"
    },
    {
     "name": "stdout",
     "output_type": "stream",
     "text": [
      "Description of Outstate\n",
      "----------------------------------------------------------------------------\n",
      "count      777.000000\n",
      "mean     10440.669241\n",
      "std       4023.016484\n",
      "min       2340.000000\n",
      "25%       7320.000000\n",
      "50%       9990.000000\n",
      "75%      12925.000000\n",
      "max      21700.000000\n",
      "Name: Outstate, dtype: float64 Distribution of Outstate\n",
      "----------------------------------------------------------------------------\n"
     ]
    },
    {
     "data": {
      "image/png": "[encoded data removed]",
      "text/plain": [
       "<Figure size 432x288 with 1 Axes>"
      ]
     },
     "metadata": {
      "needs_background": "light"
     },
     "output_type": "display_data"
    },
    {
     "name": "stdout",
     "output_type": "stream",
     "text": [
      "BoxPlot of Outstate\n",
      "----------------------------------------------------------------------------\n"
     ]
    },
    {
     "data": {
      "image/png": "[encoded data removed]",
      "text/plain": [
       "<Figure size 432x288 with 1 Axes>"
      ]
     },
     "metadata": {
      "needs_background": "light"
     },
     "output_type": "display_data"
    },
    {
     "name": "stdout",
     "output_type": "stream",
     "text": [
      "Description of Room.Board\n",
      "----------------------------------------------------------------------------\n",
      "count     777.000000\n",
      "mean     4357.526384\n",
      "std      1096.696416\n",
      "min      1780.000000\n",
      "25%      3597.000000\n",
      "50%      4200.000000\n",
      "75%      5050.000000\n",
      "max      8124.000000\n",
      "Name: Room.Board, dtype: float64 Distribution of Room.Board\n",
      "----------------------------------------------------------------------------\n"
     ]
    },
    {
     "data": {
      "image/png": "[encoded data removed]",
      "text/plain": [
       "<Figure size 432x288 with 1 Axes>"
      ]
     },
     "metadata": {
      "needs_background": "light"
     },
     "output_type": "display_data"
    },
    {
     "name": "stdout",
     "output_type": "stream",
     "text": [
      "BoxPlot of Room.Board\n",
      "----------------------------------------------------------------------------\n"
     ]
    },
    {
     "data": {
      "image/png": "[encoded data removed]",
      "text/plain": [
       "<Figure size 432x288 with 1 Axes>"
      ]
     },
     "metadata": {
      "needs_background": "light"
     },
     "output_type": "display_data"
    },
    {
     "name": "stdout",
     "output_type": "stream",
     "text": [
      "Description of Books\n",
      "----------------------------------------------------------------------------\n",
      "count     777.000000\n",
      "mean      549.380952\n",
      "std       165.105360\n",
      "min        96.000000\n",
      "25%       470.000000\n",
      "50%       500.000000\n",
      "75%       600.000000\n",
      "max      2340.000000\n",
      "Name: Books, dtype: float64 Distribution of Books\n",
      "----------------------------------------------------------------------------\n"
     ]
    },
    {
     "data": {
      "image/png": "[encoded data removed]",
      "text/plain": [
       "<Figure size 432x288 with 1 Axes>"
      ]
     },
     "metadata": {
      "needs_background": "light"
     },
     "output_type": "display_data"
    },
    {
     "name": "stdout",
     "output_type": "stream",
     "text": [
      "BoxPlot of Books\n",
      "----------------------------------------------------------------------------\n"
     ]
    },
    {
     "data": {
      "image/png": "[encoded data removed]",
      "text/plain": [
       "<Figure size 432x288 with 1 Axes>"
      ]
     },
     "metadata": {
      "needs_background": "light"
     },
     "output_type": "display_data"
    },
    {
     "name": "stdout",
     "output_type": "stream",
     "text": [
      "Description of Personal\n",
      "----------------------------------------------------------------------------\n",
      "count     777.000000\n",
      "mean     1340.642214\n",
      "std       677.071454\n",
      "min       250.000000\n",
      "25%       850.000000\n",
      "50%      1200.000000\n",
      "75%      1700.000000\n",
      "max      6800.000000\n",
      "Name: Personal, dtype: float64 Distribution of Personal\n",
      "----------------------------------------------------------------------------\n"
     ]
    },
    {
     "data": {
      "image/png": "[encoded data removed]",
      "text/plain": [
       "<Figure size 432x288 with 1 Axes>"
      ]
     },
     "metadata": {
      "needs_background": "light"
     },
     "output_type": "display_data"
    },
    {
     "name": "stdout",
     "output_type": "stream",
     "text": [
      "BoxPlot of Personal\n",
      "----------------------------------------------------------------------------\n"
     ]
    },
    {
     "data": {
      "image/png": "[encoded data removed]",
      "text/plain": [
       "<Figure size 432x288 with 1 Axes>"
      ]
     },
     "metadata": {
      "needs_background": "light"
     },
     "output_type": "display_data"
    },
    {
     "name": "stdout",
     "output_type": "stream",
     "text": [
      "Description of PhD\n",
      "----------------------------------------------------------------------------\n",
      "count    777.000000\n",
      "mean      72.660232\n",
      "std       16.328155\n",
      "min        8.000000\n",
      "25%       62.000000\n",
      "50%       75.000000\n",
      "75%       85.000000\n",
      "max      103.000000\n",
      "Name: PhD, dtype: float64 Distribution of PhD\n",
      "----------------------------------------------------------------------------\n"
     ]
    },
    {
     "data": {
      "image/png": "[encoded data removed]",
      "text/plain": [
       "<Figure size 432x288 with 1 Axes>"
      ]
     },
     "metadata": {
      "needs_background": "light"
     },
     "output_type": "display_data"
    },
    {
     "name": "stdout",
     "output_type": "stream",
     "text": [
      "BoxPlot of PhD\n",
      "----------------------------------------------------------------------------\n"
     ]
    },
    {
     "data": {
      "image/png": "[encoded data removed]",
      "text/plain": [
       "<Figure size 432x288 with 1 Axes>"
      ]
     },
     "metadata": {
      "needs_background": "light"
     },
     "output_type": "display_data"
    },
    {
     "name": "stdout",
     "output_type": "stream",
     "text": [
      "Description of Terminal\n",
      "----------------------------------------------------------------------------\n",
      "count    777.000000\n",
      "mean      79.702703\n",
      "std       14.722359\n",
      "min       24.000000\n",
      "25%       71.000000\n",
      "50%       82.000000\n",
      "75%       92.000000\n",
      "max      100.000000\n",
      "Name: Terminal, dtype: float64 Distribution of Terminal\n",
      "----------------------------------------------------------------------------\n"
     ]
    },
    {
     "data": {
      "image/png": "[encoded data removed]",
      "text/plain": [
       "<Figure size 432x288 with 1 Axes>"
      ]
     },
     "metadata": {
      "needs_background": "light"
     },
     "output_type": "display_data"
    },
    {
     "name": "stdout",
     "output_type": "stream",
     "text": [
      "BoxPlot of Terminal\n",
      "----------------------------------------------------------------------------\n"
     ]
    },
    {
     "data": {
      "image/png": "[encoded data removed]",
      "text/plain": [
       "<Figure size 432x288 with 1 Axes>"
      ]
     },
     "metadata": {
      "needs_background": "light"
     },
     "output_type": "display_data"
    },
    {
     "name": "stdout",
     "output_type": "stream",
     "text": [
      "Description of S.F.Ratio\n",
      "----------------------------------------------------------------------------\n",
      "count    777.000000\n",
      "mean      14.089704\n",
      "std        3.958349\n",
      "min        2.500000\n",
      "25%       11.500000\n",
      "50%       13.600000\n",
      "75%       16.500000\n",
      "max       39.800000\n",
      "Name: S.F.Ratio, dtype: float64 Distribution of S.F.Ratio\n",
      "----------------------------------------------------------------------------\n"
     ]
    },
    {
     "data": {
      "image/png": "[encoded data removed]",
      "text/plain": [
       "<Figure size 432x288 with 1 Axes>"
      ]
     },
     "metadata": {
      "needs_background": "light"
     },
     "output_type": "display_data"
    },
    {
     "name": "stdout",
     "output_type": "stream",
     "text": [
      "BoxPlot of S.F.Ratio\n",
      "----------------------------------------------------------------------------\n"
     ]
    },
    {
     "data": {
      "image/png": "[encoded data removed]",
      "text/plain": [
       "<Figure size 432x288 with 1 Axes>"
      ]
     },
     "metadata": {
      "needs_background": "light"
     },
     "output_type": "display_data"
    },
    {
     "name": "stdout",
     "output_type": "stream",
     "text": [
      "Description of perc.alumni\n",
      "----------------------------------------------------------------------------\n",
      "count    777.000000\n",
      "mean      22.743887\n",
      "std       12.391801\n",
      "min        0.000000\n",
      "25%       13.000000\n",
      "50%       21.000000\n",
      "75%       31.000000\n",
      "max       64.000000\n",
      "Name: perc.alumni, dtype: float64 Distribution of perc.alumni\n",
      "----------------------------------------------------------------------------\n"
     ]
    },
    {
     "data": {
      "image/png": "[encoded data removed]",
      "text/plain": [
       "<Figure size 432x288 with 1 Axes>"
      ]
     },
     "metadata": {
      "needs_background": "light"
     },
     "output_type": "display_data"
    },
    {
     "name": "stdout",
     "output_type": "stream",
     "text": [
      "BoxPlot of perc.alumni\n",
      "----------------------------------------------------------------------------\n"
     ]
    },
    {
     "data": {
      "image/png": "[encoded data removed]",
      "text/plain": [
       "<Figure size 432x288 with 1 Axes>"
      ]
     },
     "metadata": {
      "needs_background": "light"
     },
     "output_type": "display_data"
    },
    {
     "name": "stdout",
     "output_type": "stream",
     "text": [
      "Description of Expend\n",
      "----------------------------------------------------------------------------\n",
      "count      777.000000\n",
      "mean      9660.171171\n",
      "std       5221.768440\n",
      "min       3186.000000\n",
      "25%       6751.000000\n",
      "50%       8377.000000\n",
      "75%      10830.000000\n",
      "max      56233.000000\n",
      "Name: Expend, dtype: float64 Distribution of Expend\n",
      "----------------------------------------------------------------------------\n"
     ]
    },
    {
     "data": {
      "image/png": "[encoded data removed]",
      "text/plain": [
       "<Figure size 432x288 with 1 Axes>"
      ]
     },
     "metadata": {
      "needs_background": "light"
     },
     "output_type": "display_data"
    },
    {
     "name": "stdout",
     "output_type": "stream",
     "text": [
      "BoxPlot of Expend\n",
      "----------------------------------------------------------------------------\n"
     ]
    },
    {
     "data": {
      "image/png": "[encoded data removed]",
      "text/plain": [
       "<Figure size 432x288 with 1 Axes>"
      ]
     },
     "metadata": {
      "needs_background": "light"
     },
     "output_type": "display_data"
    },
    {
     "name": "stdout",
     "output_type": "stream",
     "text": [
      "Description of Grad.Rate\n",
      "----------------------------------------------------------------------------\n",
      "count    777.00000\n",
      "mean      65.46332\n",
      "std       17.17771\n",
      "min       10.00000\n",
      "25%       53.00000\n",
      "50%       65.00000\n",
      "75%       78.00000\n",
      "max      118.00000\n",
      "Name: Grad.Rate, dtype: float64 Distribution of Grad.Rate\n",
      "----------------------------------------------------------------------------\n"
     ]
    },
    {
     "data": {
      "image/png": "[encoded data removed]",
      "text/plain": [
       "<Figure size 432x288 with 1 Axes>"
      ]
     },
     "metadata": {
      "needs_background": "light"
     },
     "output_type": "display_data"
    },
    {
     "name": "stdout",
     "output_type": "stream",
     "text": [
      "BoxPlot of Grad.Rate\n",
      "----------------------------------------------------------------------------\n"
     ]
    },
    {
     "data": {
      "image/png": "[encoded data removed]",
      "text/plain": [
       "<Figure size 432x288 with 1 Axes>"
      ]
     },
     "metadata": {
      "needs_background": "light"
     },
     "output_type": "display_data"
    }
   ],
   "source": [
    "for x in lstnumericcolumns:\n",
    "    univariateAnalysis_numeric(x,20)"
   ]
  },
  {
   "cell_type": "code",
   "execution_count": 28,
   "metadata": {},
   "outputs": [
    {
     "data": {
      "text/html": [
       "<div>\n",
       "<style scoped>\n",
       "    .dataframe tbody tr th:only-of-type {\n",
       "        vertical-align: middle;\n",
       "    }\n",
       "\n",
       "    .dataframe tbody tr th {\n",
       "        vertical-align: top;\n",
       "    }\n",
       "\n",
       "    .dataframe thead th {\n",
       "        text-align: right;\n",
       "    }\n",
       "</style>\n",
       "<table border=\"1\" class=\"dataframe\">\n",
       "  <thead>\n",
       "    <tr style=\"text-align: right;\">\n",
       "      <th></th>\n",
       "      <th>Apps</th>\n",
       "      <th>Accept</th>\n",
       "      <th>Enroll</th>\n",
       "      <th>Top10perc</th>\n",
       "      <th>Top25perc</th>\n",
       "      <th>F.Undergrad</th>\n",
       "      <th>P.Undergrad</th>\n",
       "      <th>Outstate</th>\n",
       "      <th>Room.Board</th>\n",
       "      <th>Books</th>\n",
       "      <th>Personal</th>\n",
       "      <th>PhD</th>\n",
       "      <th>Terminal</th>\n",
       "      <th>S.F.Ratio</th>\n",
       "      <th>perc.alumni</th>\n",
       "      <th>Expend</th>\n",
       "      <th>Grad.Rate</th>\n",
       "    </tr>\n",
       "  </thead>\n",
       "  <tbody>\n",
       "    <tr>\n",
       "      <th>0</th>\n",
       "      <td>1660</td>\n",
       "      <td>1232</td>\n",
       "      <td>721</td>\n",
       "      <td>23</td>\n",
       "      <td>52</td>\n",
       "      <td>2885</td>\n",
       "      <td>537</td>\n",
       "      <td>7440</td>\n",
       "      <td>3300</td>\n",
       "      <td>450</td>\n",
       "      <td>2200</td>\n",
       "      <td>70</td>\n",
       "      <td>78</td>\n",
       "      <td>18.1</td>\n",
       "      <td>12</td>\n",
       "      <td>7041</td>\n",
       "      <td>60</td>\n",
       "    </tr>\n",
       "    <tr>\n",
       "      <th>1</th>\n",
       "      <td>2186</td>\n",
       "      <td>1924</td>\n",
       "      <td>512</td>\n",
       "      <td>16</td>\n",
       "      <td>29</td>\n",
       "      <td>2683</td>\n",
       "      <td>1227</td>\n",
       "      <td>12280</td>\n",
       "      <td>6450</td>\n",
       "      <td>750</td>\n",
       "      <td>1500</td>\n",
       "      <td>29</td>\n",
       "      <td>30</td>\n",
       "      <td>12.2</td>\n",
       "      <td>16</td>\n",
       "      <td>10527</td>\n",
       "      <td>56</td>\n",
       "    </tr>\n",
       "    <tr>\n",
       "      <th>2</th>\n",
       "      <td>1428</td>\n",
       "      <td>1097</td>\n",
       "      <td>336</td>\n",
       "      <td>22</td>\n",
       "      <td>50</td>\n",
       "      <td>1036</td>\n",
       "      <td>99</td>\n",
       "      <td>11250</td>\n",
       "      <td>3750</td>\n",
       "      <td>400</td>\n",
       "      <td>1165</td>\n",
       "      <td>53</td>\n",
       "      <td>66</td>\n",
       "      <td>12.9</td>\n",
       "      <td>30</td>\n",
       "      <td>8735</td>\n",
       "      <td>54</td>\n",
       "    </tr>\n",
       "    <tr>\n",
       "      <th>3</th>\n",
       "      <td>417</td>\n",
       "      <td>349</td>\n",
       "      <td>137</td>\n",
       "      <td>60</td>\n",
       "      <td>89</td>\n",
       "      <td>510</td>\n",
       "      <td>63</td>\n",
       "      <td>12960</td>\n",
       "      <td>5450</td>\n",
       "      <td>450</td>\n",
       "      <td>875</td>\n",
       "      <td>92</td>\n",
       "      <td>97</td>\n",
       "      <td>7.7</td>\n",
       "      <td>37</td>\n",
       "      <td>19016</td>\n",
       "      <td>59</td>\n",
       "    </tr>\n",
       "    <tr>\n",
       "      <th>4</th>\n",
       "      <td>193</td>\n",
       "      <td>146</td>\n",
       "      <td>55</td>\n",
       "      <td>16</td>\n",
       "      <td>44</td>\n",
       "      <td>249</td>\n",
       "      <td>869</td>\n",
       "      <td>7560</td>\n",
       "      <td>4120</td>\n",
       "      <td>800</td>\n",
       "      <td>1500</td>\n",
       "      <td>76</td>\n",
       "      <td>72</td>\n",
       "      <td>11.9</td>\n",
       "      <td>2</td>\n",
       "      <td>10922</td>\n",
       "      <td>15</td>\n",
       "    </tr>\n",
       "  </tbody>\n",
       "</table>\n",
       "</div>"
      ],
      "text/plain": [
       "   Apps  Accept  Enroll  Top10perc  Top25perc  F.Undergrad  P.Undergrad  \\\n",
       "0  1660    1232     721         23         52         2885          537   \n",
       "1  2186    1924     512         16         29         2683         1227   \n",
       "2  1428    1097     336         22         50         1036           99   \n",
       "3   417     349     137         60         89          510           63   \n",
       "4   193     146      55         16         44          249          869   \n",
       "\n",
       "   Outstate  Room.Board  Books  Personal  PhD  Terminal  S.F.Ratio  \\\n",
       "0      7440        3300    450      2200   70        78       18.1   \n",
       "1     12280        6450    750      1500   29        30       12.2   \n",
       "2     11250        3750    400      1165   53        66       12.9   \n",
       "3     12960        5450    450       875   92        97        7.7   \n",
       "4      7560        4120    800      1500   76        72       11.9   \n",
       "\n",
       "   perc.alumni  Expend  Grad.Rate  \n",
       "0           12    7041         60  \n",
       "1           16   10527         56  \n",
       "2           30    8735         54  \n",
       "3           37   19016         59  \n",
       "4            2   10922         15  "
      ]
     },
     "execution_count": 28,
     "metadata": {},
     "output_type": "execute_result"
    }
   ],
   "source": [
    "df_num.head()"
   ]
  },
  {
   "cell_type": "code",
   "execution_count": 29,
   "metadata": {},
   "outputs": [],
   "source": [
    "def univariateAnalysis_category(cat_column):\n",
    "    print(\"Details of \" + cat_column)\n",
    "    print(\"----------------------------------------------------------------\")\n",
    "    print(df_cat[cat_column].value_counts())\n",
    "    plt.figure()\n",
    "    df_cat[cat_column].value_counts().plot.bar(title=\"Frequency Distribution of \" + cat_column)\n",
    "    plt.show()\n",
    "    print(\"       \")"
   ]
  },
  {
   "cell_type": "code",
   "execution_count": 30,
   "metadata": {},
   "outputs": [
    {
     "data": {
      "text/plain": [
       "1"
      ]
     },
     "execution_count": 30,
     "metadata": {},
     "output_type": "execute_result"
    }
   ],
   "source": [
    "df_cat = df.select_dtypes(include = ['object'])\n",
    "lstcatcolumns = list(df_cat.columns.values)\n",
    "len(lstcatcolumns)"
   ]
  },
  {
   "cell_type": "code",
   "execution_count": 31,
   "metadata": {},
   "outputs": [
    {
     "name": "stdout",
     "output_type": "stream",
     "text": [
      "<class 'pandas.core.frame.DataFrame'>\n",
      "RangeIndex: 777 entries, 0 to 776\n",
      "Data columns (total 17 columns):\n",
      " #   Column       Non-Null Count  Dtype  \n",
      "---  ------       --------------  -----  \n",
      " 0   Apps         777 non-null    int64  \n",
      " 1   Accept       777 non-null    int64  \n",
      " 2   Enroll       777 non-null    int64  \n",
      " 3   Top10perc    777 non-null    int64  \n",
      " 4   Top25perc    777 non-null    int64  \n",
      " 5   F.Undergrad  777 non-null    int64  \n",
      " 6   P.Undergrad  777 non-null    int64  \n",
      " 7   Outstate     777 non-null    int64  \n",
      " 8   Room.Board   777 non-null    int64  \n",
      " 9   Books        777 non-null    int64  \n",
      " 10  Personal     777 non-null    int64  \n",
      " 11  PhD          777 non-null    int64  \n",
      " 12  Terminal     777 non-null    int64  \n",
      " 13  S.F.Ratio    777 non-null    float64\n",
      " 14  perc.alumni  777 non-null    int64  \n",
      " 15  Expend       777 non-null    int64  \n",
      " 16  Grad.Rate    777 non-null    int64  \n",
      "dtypes: float64(1), int64(16)\n",
      "memory usage: 103.3 KB\n"
     ]
    }
   ],
   "source": [
    "df_num.info()"
   ]
  },
  {
   "cell_type": "markdown",
   "metadata": {},
   "source": [
    "# Scaling"
   ]
  },
  {
   "cell_type": "markdown",
   "metadata": {},
   "source": [
    "###### 2.2. Scaling is a step of Data Pre Processing which is applied to independent variables or features of data. It basically helps to normalise the data within a particular range. Sometimes, it also helps in speeding up the calculations in an algorithm. In this scenario, scaling is needed because there is a vast difference between the different statistical details. The variables like \"Apps, Top10perc, Top25perc, PhD, Terminal, S.F Ratio, perc.alumni\" had low value as compared to the other variables and hence to apply ML algorithms, these needs to be normalised beforehand."
   ]
  },
  {
   "cell_type": "code",
   "execution_count": 32,
   "metadata": {},
   "outputs": [
    {
     "data": {
      "text/html": [
       "<div>\n",
       "<style scoped>\n",
       "    .dataframe tbody tr th:only-of-type {\n",
       "        vertical-align: middle;\n",
       "    }\n",
       "\n",
       "    .dataframe tbody tr th {\n",
       "        vertical-align: top;\n",
       "    }\n",
       "\n",
       "    .dataframe thead th {\n",
       "        text-align: right;\n",
       "    }\n",
       "</style>\n",
       "<table border=\"1\" class=\"dataframe\">\n",
       "  <thead>\n",
       "    <tr style=\"text-align: right;\">\n",
       "      <th></th>\n",
       "      <th>Apps</th>\n",
       "      <th>Accept</th>\n",
       "      <th>Enroll</th>\n",
       "      <th>Top10perc</th>\n",
       "      <th>Top25perc</th>\n",
       "      <th>F.Undergrad</th>\n",
       "      <th>P.Undergrad</th>\n",
       "      <th>Outstate</th>\n",
       "      <th>Room.Board</th>\n",
       "      <th>Books</th>\n",
       "      <th>Personal</th>\n",
       "      <th>PhD</th>\n",
       "      <th>Terminal</th>\n",
       "      <th>S.F.Ratio</th>\n",
       "      <th>perc.alumni</th>\n",
       "      <th>Expend</th>\n",
       "      <th>Grad.Rate</th>\n",
       "    </tr>\n",
       "  </thead>\n",
       "  <tbody>\n",
       "    <tr>\n",
       "      <th>0</th>\n",
       "      <td>-0.346882</td>\n",
       "      <td>-0.321205</td>\n",
       "      <td>-0.063509</td>\n",
       "      <td>-0.258583</td>\n",
       "      <td>-0.191827</td>\n",
       "      <td>-0.168116</td>\n",
       "      <td>-0.209207</td>\n",
       "      <td>-0.746356</td>\n",
       "      <td>-0.964905</td>\n",
       "      <td>-0.602312</td>\n",
       "      <td>1.270045</td>\n",
       "      <td>-0.163028</td>\n",
       "      <td>-0.115729</td>\n",
       "      <td>1.013776</td>\n",
       "      <td>-0.867574</td>\n",
       "      <td>-0.501910</td>\n",
       "      <td>-0.318252</td>\n",
       "    </tr>\n",
       "    <tr>\n",
       "      <th>1</th>\n",
       "      <td>-0.210884</td>\n",
       "      <td>-0.038703</td>\n",
       "      <td>-0.288584</td>\n",
       "      <td>-0.655656</td>\n",
       "      <td>-1.353911</td>\n",
       "      <td>-0.209788</td>\n",
       "      <td>0.244307</td>\n",
       "      <td>0.457496</td>\n",
       "      <td>1.909208</td>\n",
       "      <td>1.215880</td>\n",
       "      <td>0.235515</td>\n",
       "      <td>-2.675646</td>\n",
       "      <td>-3.378176</td>\n",
       "      <td>-0.477704</td>\n",
       "      <td>-0.544572</td>\n",
       "      <td>0.166110</td>\n",
       "      <td>-0.551262</td>\n",
       "    </tr>\n",
       "    <tr>\n",
       "      <th>2</th>\n",
       "      <td>-0.406866</td>\n",
       "      <td>-0.376318</td>\n",
       "      <td>-0.478121</td>\n",
       "      <td>-0.315307</td>\n",
       "      <td>-0.292878</td>\n",
       "      <td>-0.549565</td>\n",
       "      <td>-0.497090</td>\n",
       "      <td>0.201305</td>\n",
       "      <td>-0.554317</td>\n",
       "      <td>-0.905344</td>\n",
       "      <td>-0.259582</td>\n",
       "      <td>-1.204845</td>\n",
       "      <td>-0.931341</td>\n",
       "      <td>-0.300749</td>\n",
       "      <td>0.585935</td>\n",
       "      <td>-0.177290</td>\n",
       "      <td>-0.667767</td>\n",
       "    </tr>\n",
       "    <tr>\n",
       "      <th>3</th>\n",
       "      <td>-0.668261</td>\n",
       "      <td>-0.681682</td>\n",
       "      <td>-0.692427</td>\n",
       "      <td>1.840231</td>\n",
       "      <td>1.677612</td>\n",
       "      <td>-0.658079</td>\n",
       "      <td>-0.520752</td>\n",
       "      <td>0.626633</td>\n",
       "      <td>0.996791</td>\n",
       "      <td>-0.602312</td>\n",
       "      <td>-0.688173</td>\n",
       "      <td>1.185206</td>\n",
       "      <td>1.175657</td>\n",
       "      <td>-1.615274</td>\n",
       "      <td>1.151188</td>\n",
       "      <td>1.792851</td>\n",
       "      <td>-0.376504</td>\n",
       "    </tr>\n",
       "    <tr>\n",
       "      <th>4</th>\n",
       "      <td>-0.726176</td>\n",
       "      <td>-0.764555</td>\n",
       "      <td>-0.780735</td>\n",
       "      <td>-0.655656</td>\n",
       "      <td>-0.596031</td>\n",
       "      <td>-0.711924</td>\n",
       "      <td>0.009005</td>\n",
       "      <td>-0.716508</td>\n",
       "      <td>-0.216723</td>\n",
       "      <td>1.518912</td>\n",
       "      <td>0.235515</td>\n",
       "      <td>0.204672</td>\n",
       "      <td>-0.523535</td>\n",
       "      <td>-0.553542</td>\n",
       "      <td>-1.675079</td>\n",
       "      <td>0.241803</td>\n",
       "      <td>-2.939613</td>\n",
       "    </tr>\n",
       "  </tbody>\n",
       "</table>\n",
       "</div>"
      ],
      "text/plain": [
       "       Apps    Accept    Enroll  Top10perc  Top25perc  F.Undergrad  \\\n",
       "0 -0.346882 -0.321205 -0.063509  -0.258583  -0.191827    -0.168116   \n",
       "1 -0.210884 -0.038703 -0.288584  -0.655656  -1.353911    -0.209788   \n",
       "2 -0.406866 -0.376318 -0.478121  -0.315307  -0.292878    -0.549565   \n",
       "3 -0.668261 -0.681682 -0.692427   1.840231   1.677612    -0.658079   \n",
       "4 -0.726176 -0.764555 -0.780735  -0.655656  -0.596031    -0.711924   \n",
       "\n",
       "   P.Undergrad  Outstate  Room.Board     Books  Personal       PhD  Terminal  \\\n",
       "0    -0.209207 -0.746356   -0.964905 -0.602312  1.270045 -0.163028 -0.115729   \n",
       "1     0.244307  0.457496    1.909208  1.215880  0.235515 -2.675646 -3.378176   \n",
       "2    -0.497090  0.201305   -0.554317 -0.905344 -0.259582 -1.204845 -0.931341   \n",
       "3    -0.520752  0.626633    0.996791 -0.602312 -0.688173  1.185206  1.175657   \n",
       "4     0.009005 -0.716508   -0.216723  1.518912  0.235515  0.204672 -0.523535   \n",
       "\n",
       "   S.F.Ratio  perc.alumni    Expend  Grad.Rate  \n",
       "0   1.013776    -0.867574 -0.501910  -0.318252  \n",
       "1  -0.477704    -0.544572  0.166110  -0.551262  \n",
       "2  -0.300749     0.585935 -0.177290  -0.667767  \n",
       "3  -1.615274     1.151188  1.792851  -0.376504  \n",
       "4  -0.553542    -1.675079  0.241803  -2.939613  "
      ]
     },
     "execution_count": 32,
     "metadata": {},
     "output_type": "execute_result"
    }
   ],
   "source": [
    "from scipy.stats import zscore\n",
    "df_num_scaled=df_num.apply(zscore)\n",
    "df_num_scaled.head()"
   ]
  },
  {
   "cell_type": "code",
   "execution_count": 33,
   "metadata": {},
   "outputs": [
    {
     "name": "stdout",
     "output_type": "stream",
     "text": [
      "<class 'pandas.core.frame.DataFrame'>\n",
      "RangeIndex: 777 entries, 0 to 776\n",
      "Data columns (total 17 columns):\n",
      " #   Column       Non-Null Count  Dtype  \n",
      "---  ------       --------------  -----  \n",
      " 0   Apps         777 non-null    float64\n",
      " 1   Accept       777 non-null    float64\n",
      " 2   Enroll       777 non-null    float64\n",
      " 3   Top10perc    777 non-null    float64\n",
      " 4   Top25perc    777 non-null    float64\n",
      " 5   F.Undergrad  777 non-null    float64\n",
      " 6   P.Undergrad  777 non-null    float64\n",
      " 7   Outstate     777 non-null    float64\n",
      " 8   Room.Board   777 non-null    float64\n",
      " 9   Books        777 non-null    float64\n",
      " 10  Personal     777 non-null    float64\n",
      " 11  PhD          777 non-null    float64\n",
      " 12  Terminal     777 non-null    float64\n",
      " 13  S.F.Ratio    777 non-null    float64\n",
      " 14  perc.alumni  777 non-null    float64\n",
      " 15  Expend       777 non-null    float64\n",
      " 16  Grad.Rate    777 non-null    float64\n",
      "dtypes: float64(17)\n",
      "memory usage: 103.3 KB\n"
     ]
    }
   ],
   "source": [
    "df_num_scaled.info()"
   ]
  },
  {
   "cell_type": "code",
   "execution_count": 34,
   "metadata": {},
   "outputs": [
    {
     "data": {
      "image/png": "[encoded data removed]",
      "text/plain": [
       "<Figure size 1440x504 with 1 Axes>"
      ]
     },
     "metadata": {
      "needs_background": "light"
     },
     "output_type": "display_data"
    }
   ],
   "source": [
    "df_num_scaled.boxplot(figsize=(20,7))\n",
    "plt.xticks(rotation = 90)\n",
    "plt.show()"
   ]
  },
  {
   "cell_type": "markdown",
   "metadata": {},
   "source": [
    "#### 2.4. No, even after scalling is done, all the variables except \"Top25perc\" have outliers."
   ]
  },
  {
   "cell_type": "markdown",
   "metadata": {},
   "source": [
    "# Statistical tests to be done before PCA\n",
    "### Bartletts Test of Sphericity\n",
    "##### Bartlett's test of sphericity tests the hypothesis that the variables are uncorrelated in the population.\n",
    "\n",
    "##### H0: All variables in the data are uncorrelated\n",
    "##### Ha: At least one pair of variables in the data are correlated\n",
    "######  If the null hypothesis cannot be rejected, then PCA is not advisable. If the p-value is small, then we can reject the null hypothesis and agree that there is atleast one pair of vairbales in the data wihich are correlated hence PCA is recommended."
   ]
  },
  {
   "cell_type": "code",
   "execution_count": 35,
   "metadata": {},
   "outputs": [
    {
     "data": {
      "text/plain": [
       "0.0"
      ]
     },
     "execution_count": 35,
     "metadata": {},
     "output_type": "execute_result"
    }
   ],
   "source": [
    "from factor_analyzer.factor_analyzer import calculate_bartlett_sphericity\n",
    "chi_square_value,p_value=calculate_bartlett_sphericity(df_num_scaled)\n",
    "p_value"
   ]
  },
  {
   "cell_type": "markdown",
   "metadata": {},
   "source": [
    "### KMO Test\n",
    "##### The Kaiser-Meyer-Olkin (KMO) - measure of sampling adequacy (MSA) is an index used to examine how appropriate PCA is. Generally, if MSA is less than 0.5, PCA is not recommended, since no reduction is expected. On the other hand, MSA > 0.7 is expected to provide a considerable reduction is the dimension and extraction of meaningful components."
   ]
  },
  {
   "cell_type": "code",
   "execution_count": 36,
   "metadata": {},
   "outputs": [
    {
     "data": {
      "text/plain": [
       "0.8131251200373522"
      ]
     },
     "execution_count": 36,
     "metadata": {},
     "output_type": "execute_result"
    }
   ],
   "source": [
    "from factor_analyzer.factor_analyzer import calculate_kmo\n",
    "kmo_all,kmo_model=calculate_kmo(df_num_scaled)\n",
    "kmo_model"
   ]
  },
  {
   "cell_type": "markdown",
   "metadata": {},
   "source": [
    "#### The overall KMO for our data is 0.81, which is excellent. This value indicates that we can proceed with your planned factor analysis."
   ]
  },
  {
   "cell_type": "markdown",
   "metadata": {},
   "source": [
    "# 2.5. PCA"
   ]
  },
  {
   "cell_type": "markdown",
   "metadata": {},
   "source": [
    "## Step 1- Creating the covariance Matrix"
   ]
  },
  {
   "cell_type": "code",
   "execution_count": 37,
   "metadata": {},
   "outputs": [
    {
     "name": "stdout",
     "output_type": "stream",
     "text": [
      "Covariance Matrix \n",
      "%s [[ 1.00128866  0.94466636  0.84791332  0.33927032  0.35209304  0.81554018\n",
      "   0.3987775   0.05022367  0.16515151  0.13272942  0.17896117  0.39120081\n",
      "   0.36996762  0.09575627 -0.09034216  0.2599265   0.14694372]\n",
      " [ 0.94466636  1.00128866  0.91281145  0.19269493  0.24779465  0.87534985\n",
      "   0.44183938 -0.02578774  0.09101577  0.11367165  0.20124767  0.35621633\n",
      "   0.3380184   0.17645611 -0.16019604  0.12487773  0.06739929]\n",
      " [ 0.84791332  0.91281145  1.00128866  0.18152715  0.2270373   0.96588274\n",
      "   0.51372977 -0.1556777  -0.04028353  0.11285614  0.28129148  0.33189629\n",
      "   0.30867133  0.23757707 -0.18102711  0.06425192 -0.02236983]\n",
      " [ 0.33927032  0.19269493  0.18152715  1.00128866  0.89314445  0.1414708\n",
      "  -0.10549205  0.5630552   0.37195909  0.1190116  -0.09343665  0.53251337\n",
      "   0.49176793 -0.38537048  0.45607223  0.6617651   0.49562711]\n",
      " [ 0.35209304  0.24779465  0.2270373   0.89314445  1.00128866  0.19970167\n",
      "  -0.05364569  0.49002449  0.33191707  0.115676   -0.08091441  0.54656564\n",
      "   0.52542506 -0.29500852  0.41840277  0.52812713  0.47789622]\n",
      " [ 0.81554018  0.87534985  0.96588274  0.1414708   0.19970167  1.00128866\n",
      "   0.57124738 -0.21602002 -0.06897917  0.11569867  0.31760831  0.3187472\n",
      "   0.30040557  0.28006379 -0.22975792  0.01867565 -0.07887464]\n",
      " [ 0.3987775   0.44183938  0.51372977 -0.10549205 -0.05364569  0.57124738\n",
      "   1.00128866 -0.25383901 -0.06140453  0.08130416  0.32029384  0.14930637\n",
      "   0.14208644  0.23283016 -0.28115421 -0.08367612 -0.25733218]\n",
      " [ 0.05022367 -0.02578774 -0.1556777   0.5630552   0.49002449 -0.21602002\n",
      "  -0.25383901  1.00128866  0.65509951  0.03890494 -0.29947232  0.38347594\n",
      "   0.40850895 -0.55553625  0.56699214  0.6736456   0.57202613]\n",
      " [ 0.16515151  0.09101577 -0.04028353  0.37195909  0.33191707 -0.06897917\n",
      "  -0.06140453  0.65509951  1.00128866  0.12812787 -0.19968518  0.32962651\n",
      "   0.3750222  -0.36309504  0.27271444  0.50238599  0.42548915]\n",
      " [ 0.13272942  0.11367165  0.11285614  0.1190116   0.115676    0.11569867\n",
      "   0.08130416  0.03890494  0.12812787  1.00128866  0.17952581  0.0269404\n",
      "   0.10008351 -0.03197042 -0.04025955  0.11255393  0.00106226]\n",
      " [ 0.17896117  0.20124767  0.28129148 -0.09343665 -0.08091441  0.31760831\n",
      "   0.32029384 -0.29947232 -0.19968518  0.17952581  1.00128866 -0.01094989\n",
      "  -0.03065256  0.13652054 -0.2863366  -0.09801804 -0.26969106]\n",
      " [ 0.39120081  0.35621633  0.33189629  0.53251337  0.54656564  0.3187472\n",
      "   0.14930637  0.38347594  0.32962651  0.0269404  -0.01094989  1.00128866\n",
      "   0.85068186 -0.13069832  0.24932955  0.43331936  0.30543094]\n",
      " [ 0.36996762  0.3380184   0.30867133  0.49176793  0.52542506  0.30040557\n",
      "   0.14208644  0.40850895  0.3750222   0.10008351 -0.03065256  0.85068186\n",
      "   1.00128866 -0.16031027  0.26747453  0.43936469  0.28990033]\n",
      " [ 0.09575627  0.17645611  0.23757707 -0.38537048 -0.29500852  0.28006379\n",
      "   0.23283016 -0.55553625 -0.36309504 -0.03197042  0.13652054 -0.13069832\n",
      "  -0.16031027  1.00128866 -0.4034484  -0.5845844  -0.30710565]\n",
      " [-0.09034216 -0.16019604 -0.18102711  0.45607223  0.41840277 -0.22975792\n",
      "  -0.28115421  0.56699214  0.27271444 -0.04025955 -0.2863366   0.24932955\n",
      "   0.26747453 -0.4034484   1.00128866  0.41825001  0.49153016]\n",
      " [ 0.2599265   0.12487773  0.06425192  0.6617651   0.52812713  0.01867565\n",
      "  -0.08367612  0.6736456   0.50238599  0.11255393 -0.09801804  0.43331936\n",
      "   0.43936469 -0.5845844   0.41825001  1.00128866  0.39084571]\n",
      " [ 0.14694372  0.06739929 -0.02236983  0.49562711  0.47789622 -0.07887464\n",
      "  -0.25733218  0.57202613  0.42548915  0.00106226 -0.26969106  0.30543094\n",
      "   0.28990033 -0.30710565  0.49153016  0.39084571  1.00128866]]\n"
     ]
    }
   ],
   "source": [
    "cov_matrix = np.cov(df_num_scaled.T)\n",
    "print('Covariance Matrix \\n%s', cov_matrix)"
   ]
  },
  {
   "cell_type": "markdown",
   "metadata": {},
   "source": [
    "#### 2.3 Values which are positive means that the two variables increase or decrease together (correlated) and the ones which are negative represents that when one increases when the other decreases (Inversely correlated)"
   ]
  },
  {
   "cell_type": "markdown",
   "metadata": {},
   "source": [
    "## 2.6 Step 2- Finding variance and cumulative variance by each eigen vector"
   ]
  },
  {
   "cell_type": "code",
   "execution_count": 38,
   "metadata": {},
   "outputs": [
    {
     "name": "stdout",
     "output_type": "stream",
     "text": [
      "\n",
      " Eigen Values \n",
      " %s [5.45052162 4.48360686 1.17466761 1.00820573 0.93423123 0.84849117\n",
      " 0.6057878  0.58787222 0.53061262 0.4043029  0.02302787 0.03672545\n",
      " 0.31344588 0.08802464 0.1439785  0.16779415 0.22061096]\n",
      "\n",
      "\n",
      "Eigen Vectors \n",
      " %s [[-2.48765602e-01  3.31598227e-01  6.30921033e-02 -2.81310530e-01\n",
      "   5.74140964e-03  1.62374420e-02  4.24863486e-02  1.03090398e-01\n",
      "   9.02270802e-02 -5.25098025e-02  3.58970400e-01 -4.59139498e-01\n",
      "   4.30462074e-02 -1.33405806e-01  8.06328039e-02 -5.95830975e-01\n",
      "   2.40709086e-02]\n",
      " [-2.07601502e-01  3.72116750e-01  1.01249056e-01 -2.67817346e-01\n",
      "   5.57860920e-02 -7.53468452e-03  1.29497196e-02  5.62709623e-02\n",
      "   1.77864814e-01 -4.11400844e-02 -5.43427250e-01  5.18568789e-01\n",
      "  -5.84055850e-02  1.45497511e-01  3.34674281e-02 -2.92642398e-01\n",
      "  -1.45102446e-01]\n",
      " [-1.76303592e-01  4.03724252e-01  8.29855709e-02 -1.61826771e-01\n",
      "  -5.56936353e-02  4.25579803e-02  2.76928937e-02 -5.86623552e-02\n",
      "   1.28560713e-01 -3.44879147e-02  6.09651110e-01  4.04318439e-01\n",
      "  -6.93988831e-02 -2.95896092e-02 -8.56967180e-02  4.44638207e-01\n",
      "   1.11431545e-02]\n",
      " [-3.54273947e-01 -8.24118211e-02 -3.50555339e-02  5.15472524e-02\n",
      "  -3.95434345e-01  5.26927980e-02  1.61332069e-01  1.22678028e-01\n",
      "  -3.41099863e-01 -6.40257785e-02 -1.44986329e-01  1.48738723e-01\n",
      "  -8.10481404e-03 -6.97722522e-01 -1.07828189e-01 -1.02303616e-03\n",
      "   3.85543001e-02]\n",
      " [-3.44001279e-01 -4.47786551e-02  2.41479376e-02  1.09766541e-01\n",
      "  -4.26533594e-01 -3.30915896e-02  1.18485556e-01  1.02491967e-01\n",
      "  -4.03711989e-01 -1.45492289e-02  8.03478445e-02 -5.18683400e-02\n",
      "  -2.73128469e-01  6.17274818e-01  1.51742110e-01 -2.18838802e-02\n",
      "  -8.93515563e-02]\n",
      " [-1.54640962e-01  4.17673774e-01  6.13929764e-02 -1.00412335e-01\n",
      "  -4.34543659e-02  4.34542349e-02  2.50763629e-02 -7.88896442e-02\n",
      "   5.94419181e-02 -2.08471834e-02 -4.14705279e-01 -5.60363054e-01\n",
      "  -8.11578181e-02 -9.91640992e-03 -5.63728817e-02  5.23622267e-01\n",
      "   5.61767721e-02]\n",
      " [-2.64425045e-02  3.15087830e-01 -1.39681716e-01  1.58558487e-01\n",
      "   3.02385408e-01  1.91198583e-01 -6.10423460e-02 -5.70783816e-01\n",
      "  -5.60672902e-01  2.23105808e-01  9.01788964e-03  5.27313042e-02\n",
      "   1.00693324e-01 -2.09515982e-02  1.92857500e-02 -1.25997650e-01\n",
      "  -6.35360730e-02]\n",
      " [-2.94736419e-01 -2.49643522e-01 -4.65988731e-02 -1.31291364e-01\n",
      "   2.22532003e-01  3.00003910e-02 -1.08528966e-01 -9.84599754e-03\n",
      "   4.57332880e-03 -1.86675363e-01  5.08995918e-02 -1.01594830e-01\n",
      "   1.43220673e-01 -3.83544794e-02 -3.40115407e-02  1.41856014e-01\n",
      "  -8.23443779e-01]\n",
      " [-2.49030449e-01 -1.37808883e-01 -1.48967389e-01 -1.84995991e-01\n",
      "   5.60919470e-01 -1.62755446e-01 -2.09744235e-01  2.21453442e-01\n",
      "  -2.75022548e-01 -2.98324237e-01  1.14639620e-03  2.59293381e-02\n",
      "  -3.59321731e-01 -3.40197083e-03 -5.84289756e-02  6.97485854e-02\n",
      "   3.54559731e-01]\n",
      " [-6.47575181e-02  5.63418434e-02 -6.77411649e-01 -8.70892205e-02\n",
      "  -1.27288825e-01 -6.41054950e-01  1.49692034e-01 -2.13293009e-01\n",
      "   1.33663353e-01  8.20292186e-02  7.72631963e-04 -2.88282896e-03\n",
      "   3.19400370e-02  9.43887925e-03 -6.68494643e-02 -1.14379958e-02\n",
      "  -2.81593679e-02]\n",
      " [ 4.25285386e-02  2.19929218e-01 -4.99721120e-01  2.30710568e-01\n",
      "  -2.22311021e-01  3.31398003e-01 -6.33790064e-01  2.32660840e-01\n",
      "   9.44688900e-02 -1.36027616e-01 -1.11433396e-03  1.28904022e-02\n",
      "  -1.85784733e-02  3.09001353e-03  2.75286207e-02 -3.94547417e-02\n",
      "  -3.92640266e-02]\n",
      " [-3.18312875e-01  5.83113174e-02  1.27028371e-01  5.34724832e-01\n",
      "   1.40166326e-01 -9.12555212e-02  1.09641298e-03  7.70400002e-02\n",
      "   1.85181525e-01  1.23452200e-01  1.38133366e-02 -2.98075465e-02\n",
      "   4.03723253e-02  1.12055599e-01 -6.91126145e-01 -1.27696382e-01\n",
      "   2.32224316e-02]\n",
      " [-3.17056016e-01  4.64294477e-02  6.60375454e-02  5.19443019e-01\n",
      "   2.04719730e-01 -1.54927646e-01  2.84770105e-02  1.21613297e-02\n",
      "   2.54938198e-01  8.85784627e-02  6.20932749e-03  2.70759809e-02\n",
      "  -5.89734026e-02 -1.58909651e-01  6.71008607e-01  5.83134662e-02\n",
      "   1.64850420e-02]\n",
      " [ 1.76957895e-01  2.46665277e-01  2.89848401e-01  1.61189487e-01\n",
      "  -7.93882496e-02 -4.87045875e-01 -2.19259358e-01  8.36048735e-02\n",
      "  -2.74544380e-01 -4.72045249e-01 -2.22215182e-03  2.12476294e-02\n",
      "   4.45000727e-01  2.08991284e-02  4.13740967e-02  1.77152700e-02\n",
      "  -1.10262122e-02]\n",
      " [-2.05082369e-01 -2.46595274e-01  1.46989274e-01 -1.73142230e-02\n",
      "  -2.16297411e-01  4.73400144e-02 -2.43321156e-01 -6.78523654e-01\n",
      "   2.55334907e-01 -4.22999706e-01 -1.91869743e-02 -3.33406243e-03\n",
      "  -1.30727978e-01  8.41789410e-03 -2.71542091e-02 -1.04088088e-01\n",
      "   1.82660654e-01]\n",
      " [-3.18908750e-01 -1.31689865e-01 -2.26743985e-01 -7.92734946e-02\n",
      "   7.59581203e-02  2.98118619e-01  2.26584481e-01  5.41593771e-02\n",
      "   4.91388809e-02 -1.32286331e-01 -3.53098218e-02  4.38803230e-02\n",
      "   6.92088870e-01  2.27742017e-01  7.31225166e-02  9.37464497e-02\n",
      "   3.25982295e-01]\n",
      " [-2.52315654e-01 -1.69240532e-01  2.08064649e-01 -2.69129066e-01\n",
      "  -1.09267913e-01 -2.16163313e-01 -5.59943937e-01  5.33553891e-03\n",
      "  -4.19043052e-02  5.90271067e-01 -1.30710024e-02  5.00844705e-03\n",
      "   2.19839000e-01  3.39433604e-03  3.64767385e-02  6.91969778e-02\n",
      "   1.22106697e-01]]\n"
     ]
    }
   ],
   "source": [
    "eig_vals, eig_vecs = np.linalg.eig(cov_matrix)\n",
    "print('\\n Eigen Values \\n %s', eig_vals)\n",
    "\n",
    "print('\\n')\n",
    "\n",
    "print('Eigen Vectors \\n %s', eig_vecs)"
   ]
  },
  {
   "cell_type": "markdown",
   "metadata": {},
   "source": [
    "### Step 3 - 2.7 Explicit form of the first PC"
   ]
  },
  {
   "cell_type": "code",
   "execution_count": 39,
   "metadata": {},
   "outputs": [
    {
     "data": {
      "text/plain": [
       "array([ 32.02,  58.36,  65.26,  71.18,  76.67,  81.66,  85.22,  88.67,\n",
       "        91.79,  94.16,  96.  ,  97.3 ,  98.29,  99.13,  99.65,  99.86,\n",
       "       100.  ])"
      ]
     },
     "execution_count": 39,
     "metadata": {},
     "output_type": "execute_result"
    }
   ],
   "source": [
    "tot = sum(eig_vals)\n",
    "var_exp = [( i / tot ) * 100 for i in sorted(eig_vals, reverse = True)]\n",
    "cum_var_exp = np.cumsum(var_exp)\n",
    "np.round(cum_var_exp,2)"
   ]
  },
  {
   "cell_type": "code",
   "execution_count": 40,
   "metadata": {},
   "outputs": [
    {
     "data": {
      "text/plain": [
       "array([5.44350679, 4.47783645, 1.17315581, 1.00690817, 0.93302887,\n",
       "       0.84739916, 0.60500815, 0.58711563, 0.52992973, 0.40378256,\n",
       "       0.31304247, 0.22032704, 0.1675782 , 0.1437932 , 0.08791135,\n",
       "       0.03667818, 0.02299823])"
      ]
     },
     "execution_count": 40,
     "metadata": {},
     "output_type": "execute_result"
    }
   ],
   "source": [
    "from factor_analyzer import FactorAnalyzer\n",
    "fa = FactorAnalyzer()\n",
    "fa.fit(df_num)\n",
    "eigen_values, vectors = fa.get_eigenvalues()\n",
    "eigen_values"
   ]
  },
  {
   "cell_type": "markdown",
   "metadata": {},
   "source": [
    "## Step 4- View Scree Plot between the eigen values and number of components"
   ]
  },
  {
   "cell_type": "code",
   "execution_count": 41,
   "metadata": {},
   "outputs": [
    {
     "data": {
      "image/png": "[encoded data removed]",
      "text/plain": [
       "<Figure size 864x504 with 1 Axes>"
      ]
     },
     "metadata": {
      "needs_background": "light"
     },
     "output_type": "display_data"
    }
   ],
   "source": [
    "plt.figure(figsize = (12,7))\n",
    "\n",
    "sns.lineplot(x = range(1,len(var_exp)+1), y = var_exp, marker = 'o')\n",
    "plt.xlabel('Number of Components', fontsize = 15)\n",
    "plt.ylabel('Variance Explained', fontsize = 15)\n",
    "plt.title('Scree Plot', fontsize = 15)\n",
    "plt.grid()\n",
    "plt.show()"
   ]
  },
  {
   "cell_type": "markdown",
   "metadata": {},
   "source": []
  },
  {
   "cell_type": "markdown",
   "metadata": {},
   "source": [
    "##### 2.8 & 2.9 After looking at the cumulative eigenvalues, we consider those eigenvalues which are greater than 1. There is a steep drop in variance explained with increase in number of PC's hence, we will proceed with 9 components here. Eigenvectors represent directions. Think of plotting your data on a multidimensional scatterplot. Then one can think of an individual Eigenvector as a particular “direction” in your scatterplot of data. Eigenvalues represent magnitude, or importance. After performing PCA, the multivariate data table in converted to 9 components which helps to observe trends, clusters and outliers and help in better analysis of the data and form relationships between observations and variables and among other variables."
   ]
  },
  {
   "cell_type": "markdown",
   "metadata": {},
   "source": [
    "## Step 5- Transforming data to components formed"
   ]
  },
  {
   "cell_type": "code",
   "execution_count": 42,
   "metadata": {},
   "outputs": [
    {
     "data": {
      "text/plain": [
       "array([[-1.59285540e+00,  7.67333510e-01, -1.01073537e-01, ...,\n",
       "         6.38443468e-01, -8.79386137e-01,  9.30839439e-02],\n",
       "       [-2.19240180e+00, -5.78829984e-01,  2.27879812e+00, ...,\n",
       "         2.36753302e-01,  4.69253269e-02,  1.11378046e+00],\n",
       "       [-1.43096371e+00, -1.09281889e+00, -4.38092811e-01, ...,\n",
       "        -2.48276091e-01,  3.08740489e-01, -1.05452246e-01],\n",
       "       ...,\n",
       "       [-7.32560596e-01, -7.72352397e-02, -4.05641899e-04, ...,\n",
       "        -1.31749158e+00, -1.28288447e-01,  2.12374567e-01],\n",
       "       [ 7.91932735e+00, -2.06832886e+00,  2.07356368e+00, ...,\n",
       "         8.33276555e-02, -5.52585842e-01,  8.19690348e-02],\n",
       "       [-4.69508066e-01,  3.66660943e-01, -1.32891515e+00, ...,\n",
       "         1.30731260e+00,  6.27409633e-01,  7.23561569e-01]])"
      ]
     },
     "execution_count": 42,
     "metadata": {},
     "output_type": "execute_result"
    }
   ],
   "source": [
    "# Using scikit learn PCA here. It does all the above steps and maps data to PCA dimensions in one shot\n",
    "from sklearn.decomposition import PCA\n",
    "\n",
    "pca = PCA(n_components = 9)\n",
    "df_pca = pca.fit_transform(df_num_scaled)\n",
    "df_pca # Component output"
   ]
  },
  {
   "cell_type": "code",
   "execution_count": 43,
   "metadata": {},
   "outputs": [
    {
     "data": {
      "text/plain": [
       "array([[ 0.2487656 ,  0.2076015 ,  0.17630359,  0.35427395,  0.34400128,\n",
       "         0.15464096,  0.0264425 ,  0.29473642,  0.24903045,  0.06475752,\n",
       "        -0.04252854,  0.31831287,  0.31705602, -0.17695789,  0.20508237,\n",
       "         0.31890875,  0.25231565],\n",
       "       [ 0.33159823,  0.37211675,  0.40372425, -0.08241182, -0.04477866,\n",
       "         0.41767377,  0.31508783, -0.24964352, -0.13780888,  0.05634184,\n",
       "         0.21992922,  0.05831132,  0.04642945,  0.24666528, -0.24659527,\n",
       "        -0.13168986, -0.16924053],\n",
       "       [-0.0630921 , -0.10124906, -0.08298557,  0.03505553, -0.02414794,\n",
       "        -0.06139298,  0.13968172,  0.04659887,  0.14896739,  0.67741165,\n",
       "         0.49972112, -0.12702837, -0.06603755, -0.2898484 , -0.14698927,\n",
       "         0.22674398, -0.20806465],\n",
       "       [ 0.28131053,  0.26781735,  0.16182677, -0.05154725, -0.10976654,\n",
       "         0.10041234, -0.15855849,  0.13129136,  0.18499599,  0.08708922,\n",
       "        -0.23071057, -0.53472483, -0.51944302, -0.16118949,  0.01731422,\n",
       "         0.07927349,  0.26912907],\n",
       "       [ 0.00574141,  0.05578609, -0.05569364, -0.39543434, -0.42653359,\n",
       "        -0.04345437,  0.30238541,  0.222532  ,  0.56091947, -0.12728883,\n",
       "        -0.22231102,  0.14016633,  0.20471973, -0.07938825, -0.21629741,\n",
       "         0.07595812, -0.10926791],\n",
       "       [-0.01623744,  0.00753468, -0.04255798, -0.0526928 ,  0.03309159,\n",
       "        -0.04345423, -0.19119858, -0.03000039,  0.16275545,  0.64105495,\n",
       "        -0.331398  ,  0.09125552,  0.15492765,  0.48704587, -0.04734001,\n",
       "        -0.29811862,  0.21616331],\n",
       "       [-0.04248635, -0.01294972, -0.02769289, -0.16133207, -0.11848556,\n",
       "        -0.02507636,  0.06104235,  0.10852897,  0.20974423, -0.14969203,\n",
       "         0.63379006, -0.00109641, -0.02847701,  0.21925936,  0.24332116,\n",
       "        -0.22658448,  0.55994394],\n",
       "       [-0.1030904 , -0.05627096,  0.05866236, -0.12267803, -0.10249197,\n",
       "         0.07888964,  0.57078382,  0.009846  , -0.22145344,  0.21329301,\n",
       "        -0.23266084, -0.07704   , -0.01216133, -0.08360487,  0.67852365,\n",
       "        -0.05415938, -0.00533554],\n",
       "       [-0.09022708, -0.17786481, -0.12856071,  0.34109986,  0.40371199,\n",
       "        -0.05944192,  0.5606729 , -0.00457333,  0.27502255, -0.13366335,\n",
       "        -0.09446889, -0.18518152, -0.2549382 ,  0.27454438, -0.25533491,\n",
       "        -0.04913888,  0.04190431]])"
      ]
     },
     "execution_count": 43,
     "metadata": {},
     "output_type": "execute_result"
    }
   ],
   "source": [
    "pca.components_"
   ]
  },
  {
   "cell_type": "code",
   "execution_count": 44,
   "metadata": {},
   "outputs": [
    {
     "data": {
      "text/plain": [
       "array([0.32020628, 0.26340214, 0.06900917, 0.05922989, 0.05488405,\n",
       "       0.04984701, 0.03558871, 0.03453621, 0.03117234])"
      ]
     },
     "execution_count": 44,
     "metadata": {},
     "output_type": "execute_result"
    }
   ],
   "source": [
    "pca.explained_variance_ratio_"
   ]
  },
  {
   "cell_type": "markdown",
   "metadata": {},
   "source": [
    "## Correlation between components and features"
   ]
  },
  {
   "cell_type": "code",
   "execution_count": 45,
   "metadata": {},
   "outputs": [
    {
     "data": {
      "text/html": [
       "<div>\n",
       "<style scoped>\n",
       "    .dataframe tbody tr th:only-of-type {\n",
       "        vertical-align: middle;\n",
       "    }\n",
       "\n",
       "    .dataframe tbody tr th {\n",
       "        vertical-align: top;\n",
       "    }\n",
       "\n",
       "    .dataframe thead th {\n",
       "        text-align: right;\n",
       "    }\n",
       "</style>\n",
       "<table border=\"1\" class=\"dataframe\">\n",
       "  <thead>\n",
       "    <tr style=\"text-align: right;\">\n",
       "      <th></th>\n",
       "      <th>Apps</th>\n",
       "      <th>Accept</th>\n",
       "      <th>Enroll</th>\n",
       "      <th>Top10perc</th>\n",
       "      <th>Top25perc</th>\n",
       "      <th>F.Undergrad</th>\n",
       "      <th>P.Undergrad</th>\n",
       "      <th>Outstate</th>\n",
       "      <th>Room.Board</th>\n",
       "      <th>Books</th>\n",
       "      <th>Personal</th>\n",
       "      <th>PhD</th>\n",
       "      <th>Terminal</th>\n",
       "      <th>S.F.Ratio</th>\n",
       "      <th>perc.alumni</th>\n",
       "      <th>Expend</th>\n",
       "      <th>Grad.Rate</th>\n",
       "    </tr>\n",
       "  </thead>\n",
       "  <tbody>\n",
       "    <tr>\n",
       "      <th>0</th>\n",
       "      <td>0.248766</td>\n",
       "      <td>0.207602</td>\n",
       "      <td>0.176304</td>\n",
       "      <td>0.354274</td>\n",
       "      <td>0.344001</td>\n",
       "      <td>0.154641</td>\n",
       "      <td>0.026443</td>\n",
       "      <td>0.294736</td>\n",
       "      <td>0.249030</td>\n",
       "      <td>0.064758</td>\n",
       "      <td>-0.042529</td>\n",
       "      <td>0.318313</td>\n",
       "      <td>0.317056</td>\n",
       "      <td>-0.176958</td>\n",
       "      <td>0.205082</td>\n",
       "      <td>0.318909</td>\n",
       "      <td>0.252316</td>\n",
       "    </tr>\n",
       "    <tr>\n",
       "      <th>1</th>\n",
       "      <td>0.331598</td>\n",
       "      <td>0.372117</td>\n",
       "      <td>0.403724</td>\n",
       "      <td>-0.082412</td>\n",
       "      <td>-0.044779</td>\n",
       "      <td>0.417674</td>\n",
       "      <td>0.315088</td>\n",
       "      <td>-0.249644</td>\n",
       "      <td>-0.137809</td>\n",
       "      <td>0.056342</td>\n",
       "      <td>0.219929</td>\n",
       "      <td>0.058311</td>\n",
       "      <td>0.046429</td>\n",
       "      <td>0.246665</td>\n",
       "      <td>-0.246595</td>\n",
       "      <td>-0.131690</td>\n",
       "      <td>-0.169241</td>\n",
       "    </tr>\n",
       "    <tr>\n",
       "      <th>2</th>\n",
       "      <td>-0.063092</td>\n",
       "      <td>-0.101249</td>\n",
       "      <td>-0.082986</td>\n",
       "      <td>0.035056</td>\n",
       "      <td>-0.024148</td>\n",
       "      <td>-0.061393</td>\n",
       "      <td>0.139682</td>\n",
       "      <td>0.046599</td>\n",
       "      <td>0.148967</td>\n",
       "      <td>0.677412</td>\n",
       "      <td>0.499721</td>\n",
       "      <td>-0.127028</td>\n",
       "      <td>-0.066038</td>\n",
       "      <td>-0.289848</td>\n",
       "      <td>-0.146989</td>\n",
       "      <td>0.226744</td>\n",
       "      <td>-0.208065</td>\n",
       "    </tr>\n",
       "    <tr>\n",
       "      <th>3</th>\n",
       "      <td>0.281311</td>\n",
       "      <td>0.267817</td>\n",
       "      <td>0.161827</td>\n",
       "      <td>-0.051547</td>\n",
       "      <td>-0.109767</td>\n",
       "      <td>0.100412</td>\n",
       "      <td>-0.158558</td>\n",
       "      <td>0.131291</td>\n",
       "      <td>0.184996</td>\n",
       "      <td>0.087089</td>\n",
       "      <td>-0.230711</td>\n",
       "      <td>-0.534725</td>\n",
       "      <td>-0.519443</td>\n",
       "      <td>-0.161189</td>\n",
       "      <td>0.017314</td>\n",
       "      <td>0.079273</td>\n",
       "      <td>0.269129</td>\n",
       "    </tr>\n",
       "    <tr>\n",
       "      <th>4</th>\n",
       "      <td>0.005741</td>\n",
       "      <td>0.055786</td>\n",
       "      <td>-0.055694</td>\n",
       "      <td>-0.395434</td>\n",
       "      <td>-0.426534</td>\n",
       "      <td>-0.043454</td>\n",
       "      <td>0.302385</td>\n",
       "      <td>0.222532</td>\n",
       "      <td>0.560919</td>\n",
       "      <td>-0.127289</td>\n",
       "      <td>-0.222311</td>\n",
       "      <td>0.140166</td>\n",
       "      <td>0.204720</td>\n",
       "      <td>-0.079388</td>\n",
       "      <td>-0.216297</td>\n",
       "      <td>0.075958</td>\n",
       "      <td>-0.109268</td>\n",
       "    </tr>\n",
       "    <tr>\n",
       "      <th>5</th>\n",
       "      <td>-0.016237</td>\n",
       "      <td>0.007535</td>\n",
       "      <td>-0.042558</td>\n",
       "      <td>-0.052693</td>\n",
       "      <td>0.033092</td>\n",
       "      <td>-0.043454</td>\n",
       "      <td>-0.191199</td>\n",
       "      <td>-0.030000</td>\n",
       "      <td>0.162755</td>\n",
       "      <td>0.641055</td>\n",
       "      <td>-0.331398</td>\n",
       "      <td>0.091256</td>\n",
       "      <td>0.154928</td>\n",
       "      <td>0.487046</td>\n",
       "      <td>-0.047340</td>\n",
       "      <td>-0.298119</td>\n",
       "      <td>0.216163</td>\n",
       "    </tr>\n",
       "    <tr>\n",
       "      <th>6</th>\n",
       "      <td>-0.042486</td>\n",
       "      <td>-0.012950</td>\n",
       "      <td>-0.027693</td>\n",
       "      <td>-0.161332</td>\n",
       "      <td>-0.118486</td>\n",
       "      <td>-0.025076</td>\n",
       "      <td>0.061042</td>\n",
       "      <td>0.108529</td>\n",
       "      <td>0.209744</td>\n",
       "      <td>-0.149692</td>\n",
       "      <td>0.633790</td>\n",
       "      <td>-0.001096</td>\n",
       "      <td>-0.028477</td>\n",
       "      <td>0.219259</td>\n",
       "      <td>0.243321</td>\n",
       "      <td>-0.226584</td>\n",
       "      <td>0.559944</td>\n",
       "    </tr>\n",
       "    <tr>\n",
       "      <th>7</th>\n",
       "      <td>-0.103090</td>\n",
       "      <td>-0.056271</td>\n",
       "      <td>0.058662</td>\n",
       "      <td>-0.122678</td>\n",
       "      <td>-0.102492</td>\n",
       "      <td>0.078890</td>\n",
       "      <td>0.570784</td>\n",
       "      <td>0.009846</td>\n",
       "      <td>-0.221453</td>\n",
       "      <td>0.213293</td>\n",
       "      <td>-0.232661</td>\n",
       "      <td>-0.077040</td>\n",
       "      <td>-0.012161</td>\n",
       "      <td>-0.083605</td>\n",
       "      <td>0.678524</td>\n",
       "      <td>-0.054159</td>\n",
       "      <td>-0.005336</td>\n",
       "    </tr>\n",
       "    <tr>\n",
       "      <th>8</th>\n",
       "      <td>-0.090227</td>\n",
       "      <td>-0.177865</td>\n",
       "      <td>-0.128561</td>\n",
       "      <td>0.341100</td>\n",
       "      <td>0.403712</td>\n",
       "      <td>-0.059442</td>\n",
       "      <td>0.560673</td>\n",
       "      <td>-0.004573</td>\n",
       "      <td>0.275023</td>\n",
       "      <td>-0.133663</td>\n",
       "      <td>-0.094469</td>\n",
       "      <td>-0.185182</td>\n",
       "      <td>-0.254938</td>\n",
       "      <td>0.274544</td>\n",
       "      <td>-0.255335</td>\n",
       "      <td>-0.049139</td>\n",
       "      <td>0.041904</td>\n",
       "    </tr>\n",
       "  </tbody>\n",
       "</table>\n",
       "</div>"
      ],
      "text/plain": [
       "       Apps    Accept    Enroll  Top10perc  Top25perc  F.Undergrad  \\\n",
       "0  0.248766  0.207602  0.176304   0.354274   0.344001     0.154641   \n",
       "1  0.331598  0.372117  0.403724  -0.082412  -0.044779     0.417674   \n",
       "2 -0.063092 -0.101249 -0.082986   0.035056  -0.024148    -0.061393   \n",
       "3  0.281311  0.267817  0.161827  -0.051547  -0.109767     0.100412   \n",
       "4  0.005741  0.055786 -0.055694  -0.395434  -0.426534    -0.043454   \n",
       "5 -0.016237  0.007535 -0.042558  -0.052693   0.033092    -0.043454   \n",
       "6 -0.042486 -0.012950 -0.027693  -0.161332  -0.118486    -0.025076   \n",
       "7 -0.103090 -0.056271  0.058662  -0.122678  -0.102492     0.078890   \n",
       "8 -0.090227 -0.177865 -0.128561   0.341100   0.403712    -0.059442   \n",
       "\n",
       "   P.Undergrad  Outstate  Room.Board     Books  Personal       PhD  Terminal  \\\n",
       "0     0.026443  0.294736    0.249030  0.064758 -0.042529  0.318313  0.317056   \n",
       "1     0.315088 -0.249644   -0.137809  0.056342  0.219929  0.058311  0.046429   \n",
       "2     0.139682  0.046599    0.148967  0.677412  0.499721 -0.127028 -0.066038   \n",
       "3    -0.158558  0.131291    0.184996  0.087089 -0.230711 -0.534725 -0.519443   \n",
       "4     0.302385  0.222532    0.560919 -0.127289 -0.222311  0.140166  0.204720   \n",
       "5    -0.191199 -0.030000    0.162755  0.641055 -0.331398  0.091256  0.154928   \n",
       "6     0.061042  0.108529    0.209744 -0.149692  0.633790 -0.001096 -0.028477   \n",
       "7     0.570784  0.009846   -0.221453  0.213293 -0.232661 -0.077040 -0.012161   \n",
       "8     0.560673 -0.004573    0.275023 -0.133663 -0.094469 -0.185182 -0.254938   \n",
       "\n",
       "   S.F.Ratio  perc.alumni    Expend  Grad.Rate  \n",
       "0  -0.176958     0.205082  0.318909   0.252316  \n",
       "1   0.246665    -0.246595 -0.131690  -0.169241  \n",
       "2  -0.289848    -0.146989  0.226744  -0.208065  \n",
       "3  -0.161189     0.017314  0.079273   0.269129  \n",
       "4  -0.079388    -0.216297  0.075958  -0.109268  \n",
       "5   0.487046    -0.047340 -0.298119   0.216163  \n",
       "6   0.219259     0.243321 -0.226584   0.559944  \n",
       "7  -0.083605     0.678524 -0.054159  -0.005336  \n",
       "8   0.274544    -0.255335 -0.049139   0.041904  "
      ]
     },
     "execution_count": 45,
     "metadata": {},
     "output_type": "execute_result"
    }
   ],
   "source": [
    "df_comp = pd.DataFrame(pca.components_,columns = list(df_num_scaled))\n",
    "df_comp"
   ]
  },
  {
   "cell_type": "code",
   "execution_count": 46,
   "metadata": {},
   "outputs": [
    {
     "data": {
      "text/plain": [
       "(9, 17)"
      ]
     },
     "execution_count": 46,
     "metadata": {},
     "output_type": "execute_result"
    }
   ],
   "source": [
    "df_comp.shape"
   ]
  },
  {
   "cell_type": "code",
   "execution_count": 47,
   "metadata": {},
   "outputs": [
    {
     "data": {
      "image/png": "[encoded data removed]",
      "text/plain": [
       "<Figure size 1080x504 with 2 Axes>"
      ]
     },
     "metadata": {
      "needs_background": "light"
     },
     "output_type": "display_data"
    }
   ],
   "source": [
    "plt.figure(figsize=(15,7))\n",
    "sns.heatmap(df_comp, cmap='plasma', annot = True)\n",
    "plt.show()"
   ]
  },
  {
   "cell_type": "markdown",
   "metadata": {},
   "source": [
    "### Observations - \n",
    "##### This heatmap and the color bar basically represent the correlation between the various feature and the principal component itself\n",
    "##### Component 3 looks more related to PhD and Terminal.\n",
    "##### PC2 could be labelled with Books.\n",
    "##### Depending on relationship, we can go ahead and label relationship with features by looking at the heatmap."
   ]
  },
  {
   "cell_type": "code",
   "execution_count": null,
   "metadata": {},
   "outputs": [],
   "source": []
  }
 ],
 "metadata": {
  "kernelspec": {
   "display_name": "Python 3",
   "language": "python",
   "name": "python3"
  },
  "language_info": {
   "codemirror_mode": {
    "name": "ipython",
    "version": 3
   },
   "file_extension": ".py",
   "mimetype": "text/x-python",
   "name": "python",
   "nbconvert_exporter": "python",
   "pygments_lexer": "ipython3",
   "version": "3.8.3"
  }
 },
 "nbformat": 4,
 "nbformat_minor": 4
}
